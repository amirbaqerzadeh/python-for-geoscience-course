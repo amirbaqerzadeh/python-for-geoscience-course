{
 "cells": [
  {
   "cell_type": "markdown",
   "id": "7505d788",
   "metadata": {},
   "source": [
    "# Session 2: How to Write Functions in Python"
   ]
  },
  {
   "cell_type": "markdown",
   "id": "d9405fc0",
   "metadata": {},
   "source": [
    "\n",
    "## Exercise 1: Calculate the Dew Point\n",
    "Dew point is the temperature at which air becomes saturated with moisture. The formula to calculate the dew point is:\n",
    "\n",
    "\\[ T_d = T - \f",
    "rac{(100 - RH)}{5}\n",
    "\n",
    "where \\( T_d \\) is the dew point, \\( T \\) is the temperature in Celsius, and \\( RH \\) is the relative humidity in percentage.\n",
    "        "
   ]
  },
  {
   "cell_type": "code",
   "execution_count": null,
   "id": "00b9941c",
   "metadata": {},
   "outputs": [],
   "source": [
    "\n",
    "def calculate_dew_point(temperature, relative_humidity):\n",
    "    dew_point = temperature - (100 - relative_humidity) / 5\n",
    "    return dew_point\n",
    "        "
   ]
  },
  {
   "cell_type": "markdown",
   "id": "8ceb4535",
   "metadata": {},
   "source": [
    "\n",
    "## Exercise 2: Potential Temperature\n",
    "Potential temperature is the temperature that a parcel of air would have if it were expanded or compressed adiabatically from its existing pressure to a standard pressure (1000 hPa). The formula is:\n",
    "\n",
    "\\[ \theta = T \\left(\f",
    "rac{P_0}{P}\n",
    "ight)^{\f",
    "rac{R}{c_p}} \\]\n",
    "\n",
    "where \\( \theta \\) is the potential temperature, \\( T \\) is the actual temperature in Kelvin, \\( P_0 \\) is the standard pressure (1000 hPa), \\( P \\) is the pressure in hPa, \\( R \\) is the gas constant for dry air (287 J/kg K), and \\( c_p \\) is the specific heat at constant pressure (1004 J/kg K).\n",
    "        "
   ]
  },
  {
   "cell_type": "code",
   "execution_count": null,
   "id": "db55e02f",
   "metadata": {},
   "outputs": [],
   "source": [
    "\n",
    "import numpy as np\n",
    "\n",
    "def potential_temperature(temperature, pressure):\n",
    "    P0 = 1000  # hPa\n",
    "    R = 287  # J/(kg K)\n",
    "    cp = 1004  # J/(kg K)\n",
    "    theta = temperature * (P0 / pressure) ** (R / cp)\n",
    "    return theta\n",
    "        "
   ]
  },
  {
   "cell_type": "markdown",
   "id": "35dda75f",
   "metadata": {},
   "source": [
    "\n",
    "## Exercise 3: Calculate Wind Chill\n",
    "Wind chill temperature is how cold people feel due to the wind. The formula is:\n",
    "\n",
    "\\[ T_{wc} = 13.12 + 0.6215T - 11.37V^{0.16} + 0.3965TV^{0.16} \\]\n",
    "\n",
    "where \\( T_{wc} \\) is the wind chill, \\( T \\) is the air temperature in Celsius, and \\( V \\) is the wind speed in km/h.\n",
    "        "
   ]
  },
  {
   "cell_type": "code",
   "execution_count": null,
   "id": "0e2fb720",
   "metadata": {},
   "outputs": [],
   "source": [
    "\n",
    "def wind_chill(temperature, wind_speed):\n",
    "    T_wc = 13.12 + 0.6215 * temperature - 11.37 * wind_speed ** 0.16 + 0.3965 * temperature * wind_speed ** 0.16\n",
    "    return T_wc\n",
    "        "
   ]
  },
  {
   "cell_type": "markdown",
   "id": "a7ba6863",
   "metadata": {},
   "source": [
    "\n",
    "## Exercise 4: Calculate Richter Magnitude\n",
    "The Richter magnitude scale is used to quantify the energy released by an earthquake. The formula is:\n",
    "\n",
    "\\[ M = \\log_{10}(A) + 3 \\log_{10}(8 \\Delta t) - 2.92 \\]\n",
    "\n",
    "where \\( A \\) is the amplitude of the seismic waves and \\( \\Delta t \\) is the difference in arrival times of the P and S waves.\n",
    "        "
   ]
  },
  {
   "cell_type": "code",
   "execution_count": null,
   "id": "34bfdfd4",
   "metadata": {},
   "outputs": [],
   "source": [
    "\n",
    "def richter_magnitude(amplitude, delta_t):\n",
    "    M = np.log10(amplitude) + 3 * np.log10(8 * delta_t) - 2.92\n",
    "    return M\n",
    "        "
   ]
  },
  {
   "cell_type": "markdown",
   "id": "630e62a7",
   "metadata": {},
   "source": [
    "\n",
    "## Exercise 5: Calculate Coriolis Force\n",
    "The Coriolis force is an apparent force caused by the rotation of the Earth. The formula is:\n",
    "\n",
    "\\[ F_c = 2 m v \\Omega \\sin(\\phi) \\]\n",
    "\n",
    "where \\( F_c \\) is the Coriolis force, \\( m \\) is the mass of the object, \\( v \\) is the velocity, \\( \\Omega \\) is the angular velocity of Earth, and \\( \\phi \\) is the latitude.\n",
    "        "
   ]
  },
  {
   "cell_type": "code",
   "execution_count": null,
   "id": "bca187b4",
   "metadata": {},
   "outputs": [],
   "source": [
    "\n",
    "def coriolis_force(mass, velocity, latitude):\n",
    "    omega = 7.2921e-5  # Earth's angular velocity in rad/s\n",
    "    Fc = 2 * mass * velocity * omega * np.sin(np.radians(latitude))\n",
    "    return Fc\n",
    "        "
   ]
  },
  {
   "cell_type": "markdown",
   "id": "fd0f1329",
   "metadata": {},
   "source": [
    "\n",
    "## Exercise 6: Calculate Specific Humidity\n",
    "Specific humidity is the mass of water vapor per unit mass of air. The formula is:\n",
    "\n",
    "\\[ q = \f",
    "rac{e}{P - (1 - \\epsilon)e} \\]\n",
    "\n",
    "where \\( q \\) is the specific humidity, \\( e \\) is the vapor pressure, \\( P \\) is the total pressure, and \\( \\epsilon \\) is the ratio of the gas constants of dry air to water vapor (0.622).\n",
    "        "
   ]
  },
  {
   "cell_type": "code",
   "execution_count": null,
   "id": "09b6fdce",
   "metadata": {},
   "outputs": [],
   "source": [
    "\n",
    "def specific_humidity(vapor_pressure, total_pressure):\n",
    "    epsilon = 0.622\n",
    "    q = (vapor_pressure) / (total_pressure - (1 - epsilon) * vapor_pressure)\n",
    "    return q\n",
    "        "
   ]
  },
  {
   "cell_type": "markdown",
   "id": "f71f8557",
   "metadata": {},
   "source": [
    "\n",
    "## Exercise 7: Calculate Adiabatic Lapse Rate\n",
    "The adiabatic lapse rate is the rate of temperature change with altitude for a parcel of dry air. The formula is:\n",
    "\n",
    "\\[ \\Gamma = -\f",
    "rac{dT}{dz} = \f",
    "rac{g}{c_p} \\]\n",
    "\n",
    "where \\( \\Gamma \\) is the dry adiabatic lapse rate, \\( g \\) is the acceleration due to gravity (9.8 m/s²), and \\( c_p \\) is the specific heat at constant pressure (1004 J/kg K).\n",
    "        "
   ]
  },
  {
   "cell_type": "code",
   "execution_count": null,
   "id": "ca07aa24",
   "metadata": {},
   "outputs": [],
   "source": [
    "\n",
    "def adiabatic_lapse_rate():\n",
    "    g = 9.8  # m/s²\n",
    "    cp = 1004  # J/kg K\n",
    "    Gamma = g / cp\n",
    "    return Gamma\n",
    "        "
   ]
  },
  {
   "cell_type": "markdown",
   "id": "032c09c7",
   "metadata": {},
   "source": [
    "\n",
    "## Exercise 8: Calculate Solar Zenith Angle\n",
    "The solar zenith angle is the angle between the vertical and the line to the sun. The formula depends on the time of day and the observer's location.\n",
    "\n",
    "\\[ \\cos(Z) = \\sin(\\phi) \\sin(\\delta) + \\cos(\\phi) \\cos(\\delta) \\cos(h) \\]\n",
    "\n",
    "where \\( Z \\) is the solar zenith angle, \\( \\phi \\) is the latitude, \\( \\delta \\) is the solar declination, and \\( h \\) is the hour angle.\n",
    "        "
   ]
  },
  {
   "cell_type": "code",
   "execution_count": null,
   "id": "91fdaa4f",
   "metadata": {},
   "outputs": [],
   "source": [
    "\n",
    "def solar_zenith_angle(latitude, declination, hour_angle):\n",
    "    cosZ = np.sin(np.radians(latitude)) * np.sin(np.radians(declination)) + np.cos(np.radians(latitude)) * np.cos(np.radians(declination)) * np.cos(np.radians(hour_angle))\n",
    "    Z = np.degrees(np.arccos(cosZ))\n",
    "    return Z\n",
    "        "
   ]
  },
  {
   "cell_type": "markdown",
   "id": "15498b9b",
   "metadata": {},
   "source": [
    "\n",
    "## Exercise 9: Calculate Seismic Moment\n",
    "The seismic moment is a measure of the size of an earthquake. The formula is:\n",
    "\n",
    "\\[ M_0 = \\mu A D \\]\n",
    "\n",
    "where \\( M_0 \\) is the seismic moment, \\( \\mu \\) is the shear modulus, \\( A \\) is the area of the fault, and \\( D \\) is the average displacement on the fault.\n",
    "        "
   ]
  },
  {
   "cell_type": "code",
   "execution_count": null,
   "id": "f78f0dbf",
   "metadata": {},
   "outputs": [],
   "source": [
    "\n",
    "def seismic_moment(shear_modulus, fault_area, displacement):\n",
    "    M0 = shear_modulus * fault_area * displacement\n",
    "    return M0\n",
    "        "
   ]
  },
  {
   "cell_type": "markdown",
   "id": "1addbaa6",
   "metadata": {},
   "source": [
    "\n",
    "## Exercise 10: Calculate Geostrophic Wind Speed\n",
    "Geostrophic wind is the theoretical wind that would result from an exact balance between the Coriolis force and the pressure gradient force. The formula is:\n",
    "\n",
    "\\[ V_g = \f",
    "rac{1}{f \n",
    "ho} \f",
    "rac{\\partial p}{\\partial x} \\]\n",
    "\n",
    "where \\( V_g \\) is the geostrophic wind speed, \\( f \\) is the Coriolis parameter, \\( \n",
    "ho \\) is the air density, and \\( \f",
    "rac{\\partial p}{\\partial x} \\) is the pressure gradient.\n",
    "        "
   ]
  },
  {
   "cell_type": "code",
   "execution_count": null,
   "id": "b4736b55",
   "metadata": {},
   "outputs": [],
   "source": [
    "\n",
    "def geostrophic_wind(pressure_gradient, coriolis_parameter, air_density):\n",
    "    Vg = pressure_gradient / (coriolis_parameter * air_density)\n",
    "    return Vg\n",
    "        "
   ]
  }
 ],
 "metadata": {
  "kernelspec": {
   "display_name": "Python 3 (ipykernel)",
   "language": "python",
   "name": "python3"
  },
  "language_info": {
   "codemirror_mode": {
    "name": "ipython",
    "version": 3
   },
   "file_extension": ".py",
   "mimetype": "text/x-python",
   "name": "python",
   "nbconvert_exporter": "python",
   "pygments_lexer": "ipython3",
   "version": "3.10.8"
  }
 },
 "nbformat": 4,
 "nbformat_minor": 5
}
