{
 "cells": [
  {
   "cell_type": "markdown",
   "id": "0ba31fcd",
   "metadata": {},
   "source": [
    "## NumPy Performace Test\n",
    "### Comparing the Speed of NumPy and Loops for Dot Product Calculation"
   ]
  },
  {
   "cell_type": "markdown",
   "id": "1b2f5b41",
   "metadata": {},
   "source": [
    "### Dot Product\n",
    "**Definition**\n",
    "\n",
    "The dot product (also known as the scalar or inner product) of two vectors a and b is the sum of the products of corresponding elements of the two vectors. It is denoted by a · b and is calculated as:\n",
    "\n",
    "$a⋅b=a1∗b1+a2∗b2+...+an∗bna⋅b=a1​∗b1​+a2​∗b2​+...+an​∗bn​$ \n",
    "\n",
    "where $a_1$, $a_2$, ..., $a_n$ and $b_1$, $b_2$, ..., $b_n$ are the elements of the vectors a and b, respectively."
   ]
  },
  {
   "cell_type": "code",
   "execution_count": 1,
   "id": "6196aa1b",
   "metadata": {},
   "outputs": [],
   "source": [
    "import numpy as np\n",
    "import time as time"
   ]
  },
  {
   "cell_type": "code",
   "execution_count": null,
   "id": "ecd6fc70",
   "metadata": {},
   "outputs": [],
   "source": [
    "# 1. calculate dot product using loop\n",
    "\n",
    "# do not change this code\n",
    "def dot(a,b):\n",
    "  result = 0\n",
    "  for i,j in zip(a,b):\n",
    "    result += i*j\n",
    "  return result\n",
    "\n",
    "a = np.random.rand(1000000)\n",
    "b = np.random.rand(1000000)\n",
    "\n",
    "dot_start = time.process_time()\n",
    "x = dot(a,b)\n",
    "dot_end = time.process_time()\n",
    "\n",
    "dot_time = dot_end - dot_start\n",
    "\n",
    "# comlete this line:\n",
    "######\n",
    "print(\"Time taken by loop: \")\n",
    "\n",
    "\n",
    "########\n",
    "\n",
    "\n",
    "# 2. calculate dot product using numpy\n",
    "\n",
    "#####\n",
    "np_start = time.process_time()\n",
    "x = # write command to calculate a*b\n",
    "np_end = time.process_time()\n",
    "np_time = np_end - np_start\n",
    "\n",
    "## complete this lines\n",
    "print(\"Time taken by NumPy: \")\n",
    "\n",
    "\n",
    "print(\"Loop Time / NumPy Time:\")\n",
    "\n",
    "\n",
    "#####\n"
   ]
  },
  {
   "cell_type": "code",
   "execution_count": 2,
   "id": "c5f72f63",
   "metadata": {},
   "outputs": [
    {
     "name": "stdout",
     "output_type": "stream",
     "text": [
      "Time taken by loop: \n",
      "0.265625\n",
      "Time taken by NumPy: \n",
      "0.015625\n",
      "Loop Time / NumPy Time:\n",
      "17.0\n"
     ]
    }
   ],
   "source": [
    "# DO NOT RUN THIS CELL!"
   ]
  },
  {
   "cell_type": "code",
   "execution_count": null,
   "id": "5ecb56ea",
   "metadata": {},
   "outputs": [],
   "source": []
  }
 ],
 "metadata": {
  "kernelspec": {
   "display_name": "Python 3 (ipykernel)",
   "language": "python",
   "name": "python3"
  },
  "language_info": {
   "codemirror_mode": {
    "name": "ipython",
    "version": 3
   },
   "file_extension": ".py",
   "mimetype": "text/x-python",
   "name": "python",
   "nbconvert_exporter": "python",
   "pygments_lexer": "ipython3",
   "version": "3.10.8"
  }
 },
 "nbformat": 4,
 "nbformat_minor": 5
}
