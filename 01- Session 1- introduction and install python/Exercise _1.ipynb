{
 "cells": [
  {
   "cell_type": "markdown",
   "id": "41fa0919-6d2c-459a-9774-19e49ff83caf",
   "metadata": {},
   "source": [
    "## Numbers\n",
    "\n",
    "Write an equation that uses multiplication, division, an exponent, addition, and subtraction that is equal to 100.25.\n",
    "\n",
    "Hint: This is just to test your memory of the basic arithmetic commands, work backwards from 100.25"
   ]
  },
  {
   "cell_type": "code",
   "execution_count": 1,
   "id": "4a46a11d-8902-42ca-8cd6-e34ebe29b7b1",
   "metadata": {},
   "outputs": [],
   "source": [
    "# write equation here:\n",
    "\n",
    "\n"
   ]
  },
  {
   "cell_type": "markdown",
   "id": "fb9b42c1-c07e-4552-8f3d-67895454662f",
   "metadata": {},
   "source": [
    "What is the *type* of the result of the expression 3 + 1.5 + 4?<br><br>"
   ]
  },
  {
   "cell_type": "code",
   "execution_count": null,
   "id": "17ff21d6-c811-411b-b0ce-4851677ec3d7",
   "metadata": {},
   "outputs": [],
   "source": [
    "# write here:\n",
    "\n"
   ]
  },
  {
   "cell_type": "markdown",
   "id": "57724ec8-3f14-4e29-adfc-8db7528f70b3",
   "metadata": {},
   "source": [
    "What would you use to find a number’s square root, as well as its square? "
   ]
  },
  {
   "cell_type": "code",
   "execution_count": 2,
   "id": "1460ed05-73b9-4ec8-85aa-8c622841ca38",
   "metadata": {},
   "outputs": [],
   "source": [
    "# write here:\n",
    "\n"
   ]
  },
  {
   "cell_type": "markdown",
   "id": "17d24d01-0e3e-438e-81f3-3771b1630fca",
   "metadata": {},
   "source": [
    "## Strings\n",
    "Given the string 'geoscience' give an index command that returns 's'. Enter your code in the cell below:"
   ]
  },
  {
   "cell_type": "code",
   "execution_count": null,
   "id": "3c7ed938-aa2f-41c2-8d10-a12099a669c5",
   "metadata": {},
   "outputs": [],
   "source": [
    "# write here:\n",
    "\n"
   ]
  },
  {
   "cell_type": "markdown",
   "id": "2cf7f94d-976a-4dc0-9e27-04bbbbe8f343",
   "metadata": {},
   "source": [
    "Reverse the string 'meteorology' using slicing:"
   ]
  },
  {
   "cell_type": "code",
   "execution_count": 3,
   "id": "29ddff0b-d73b-4dd7-852e-a104a47f8adf",
   "metadata": {},
   "outputs": [],
   "source": [
    "s = 'meteorology'\n",
    "# Reverse the string using slicing\n"
   ]
  },
  {
   "cell_type": "markdown",
   "id": "8077b8e7-83f5-4186-903c-3f7bc3b0c85d",
   "metadata": {},
   "source": [
    "### write a equation to generate string below from  s:\n",
    "\n",
    "mmmeteorologggggy\n",
    "\n",
    "\n"
   ]
  },
  {
   "cell_type": "code",
   "execution_count": null,
   "id": "dbc977ee-42cd-4c17-9624-b87f174a4f0c",
   "metadata": {},
   "outputs": [],
   "source": [
    "# write here:\n",
    "\n"
   ]
  },
  {
   "cell_type": "markdown",
   "id": "aad205d4-ba4a-4ea7-8352-31bdab9a04c3",
   "metadata": {},
   "source": [
    "this is a line of synop code used in weather stations to report near surface data:\n",
    "\n",
    "synop_06 = \"40755 11958 00000 11010 21076 37643 40341 52013 60001 70500 333 3/109\"\n",
    "\n",
    "grab this code: \"11010\" and assign it in temp variable"
   ]
  },
  {
   "cell_type": "code",
   "execution_count": null,
   "id": "0aeb847a-0020-4b31-b720-fd286a4c559f",
   "metadata": {},
   "outputs": [],
   "source": [
    "# grab the desired code from synop_06 here:\n",
    "temp = "
   ]
  },
  {
   "cell_type": "markdown",
   "id": "994b557d-a1ce-4dd1-81eb-0d6c2a2aa9b2",
   "metadata": {},
   "source": [
    "in given sting synop_06, grab '3/109' and assign it in earth variable"
   ]
  },
  {
   "cell_type": "code",
   "execution_count": null,
   "id": "70a9c4a5-8e42-4bb6-b263-291b3b267e1e",
   "metadata": {},
   "outputs": [],
   "source": [
    "# grab the desired code from synop_06 here:\n",
    "earth = "
   ]
  },
  {
   "cell_type": "code",
   "execution_count": null,
   "id": "c76200d8-4225-4edb-8359-b87fb175bc22",
   "metadata": {},
   "outputs": [],
   "source": []
  }
 ],
 "metadata": {
  "kernelspec": {
   "display_name": "Python 3 (ipykernel)",
   "language": "python",
   "name": "python3"
  },
  "language_info": {
   "codemirror_mode": {
    "name": "ipython",
    "version": 3
   },
   "file_extension": ".py",
   "mimetype": "text/x-python",
   "name": "python",
   "nbconvert_exporter": "python",
   "pygments_lexer": "ipython3",
   "version": "3.9.19"
  }
 },
 "nbformat": 4,
 "nbformat_minor": 5
}
