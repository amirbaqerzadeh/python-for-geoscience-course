{
 "cells": [
  {
   "cell_type": "markdown",
   "id": "af9eecac-13bf-4e3f-8250-b224144ef071",
   "metadata": {},
   "source": [
    "# functoins\n",
    "## let'st try functions\n",
    "#### how to write a function"
   ]
  },
  {
   "cell_type": "code",
   "execution_count": null,
   "id": "342d14cf-bc15-417f-bc5c-668ff45c1f26",
   "metadata": {},
   "outputs": [],
   "source": [
    "type(a)"
   ]
  },
  {
   "cell_type": "code",
   "execution_count": null,
   "id": "6805e5ef-2360-4619-be71-89974ba994a6",
   "metadata": {},
   "outputs": [],
   "source": [
    "type(3.1415)"
   ]
  },
  {
   "cell_type": "code",
   "execution_count": null,
   "id": "fb778e6e-23c9-446b-97e8-e32589649f73",
   "metadata": {},
   "outputs": [],
   "source": [
    "def my_function():\n",
    "    print('hey! this is my first function!')"
   ]
  },
  {
   "cell_type": "code",
   "execution_count": null,
   "id": "bcefe838-9a69-473c-a2b6-cf263fc26924",
   "metadata": {},
   "outputs": [],
   "source": [
    "type(my_function)"
   ]
  },
  {
   "cell_type": "code",
   "execution_count": null,
   "id": "038acea8-55ed-492f-9dde-9ac50ff65519",
   "metadata": {},
   "outputs": [],
   "source": [
    "my_function()"
   ]
  },
  {
   "cell_type": "code",
   "execution_count": null,
   "id": "ae63a0a5-2efa-40ae-a34a-31bbbdec351a",
   "metadata": {},
   "outputs": [],
   "source": [
    "my_function"
   ]
  },
  {
   "cell_type": "code",
   "execution_count": null,
   "id": "d5c27212-b0f7-4c65-8172-261c80e49106",
   "metadata": {},
   "outputs": [],
   "source": [
    "def hello(name):\n",
    "    print(f'hello dear {name}!')"
   ]
  },
  {
   "cell_type": "code",
   "execution_count": null,
   "id": "ad0ce2ba-605e-4d7f-86bc-d4da7cd398b9",
   "metadata": {},
   "outputs": [],
   "source": [
    "hello('sina')"
   ]
  },
  {
   "cell_type": "code",
   "execution_count": null,
   "id": "b5533e04-dcc1-477e-bc84-8078fd9ff0b1",
   "metadata": {},
   "outputs": [],
   "source": [
    "type(hello('sina'))"
   ]
  },
  {
   "cell_type": "code",
   "execution_count": null,
   "id": "7b961c95-df45-49ad-b565-048c513b93a6",
   "metadata": {},
   "outputs": [],
   "source": [
    "def hello(name):\n",
    "    return (f'hello dear {name}!')"
   ]
  },
  {
   "cell_type": "code",
   "execution_count": null,
   "id": "dd34a17b-6a2d-4bdf-ad04-55b7f87253ff",
   "metadata": {},
   "outputs": [],
   "source": [
    "name_1 = hello('dani')"
   ]
  },
  {
   "cell_type": "code",
   "execution_count": null,
   "id": "9231ce8f-27ea-4a0a-b0d1-9ddd22f56893",
   "metadata": {},
   "outputs": [],
   "source": [
    "name_1"
   ]
  },
  {
   "cell_type": "code",
   "execution_count": null,
   "id": "b1377202-c5e0-4fa7-a08e-914e293a3689",
   "metadata": {},
   "outputs": [],
   "source": [
    "def square(x):\n",
    "\n",
    "    return x ** 2\n",
    "\n",
    "\n",
    "\n",
    "\n",
    "\n",
    "    "
   ]
  },
  {
   "cell_type": "code",
   "execution_count": null,
   "id": "0e29b559-7d0d-4c00-896a-dbb88b2d7d06",
   "metadata": {},
   "outputs": [],
   "source": [
    "square(3)"
   ]
  },
  {
   "cell_type": "code",
   "execution_count": null,
   "id": "f61afa86-f3bd-48b4-94ef-30010f5cc69f",
   "metadata": {},
   "outputs": [],
   "source": [
    "square()"
   ]
  },
  {
   "cell_type": "code",
   "execution_count": null,
   "id": "b1ac6adb-93fe-433a-a4b2-9d9d092df61b",
   "metadata": {},
   "outputs": [],
   "source": [
    "square('a')"
   ]
  },
  {
   "cell_type": "code",
   "execution_count": null,
   "id": "e921aeb2-9fee-4d4f-b7f1-51ca3946a57b",
   "metadata": {},
   "outputs": [],
   "source": [
    "def square(x):\n",
    "    '''\n",
    "    i can write docstring here and give some exampmles\n",
    "    x = 2\n",
    "    square(2) returns 4\n",
    "    '''\n",
    "\n",
    "    return x ** 2\n",
    "\n"
   ]
  },
  {
   "cell_type": "code",
   "execution_count": null,
   "id": "4b1f2c2a-ae71-4e8a-b8d5-040c91deeb4e",
   "metadata": {},
   "outputs": [],
   "source": [
    "def square(x=1):\n",
    "    '''\n",
    "    i can write docstring here and give some exampmles\n",
    "    x = 2\n",
    "    square(2) returns 4\n",
    "    '''\n",
    "\n",
    "    return x ** 2\n",
    "\n"
   ]
  },
  {
   "cell_type": "code",
   "execution_count": null,
   "id": "9100047c-a80c-4c5f-9bdb-722c39b2328a",
   "metadata": {},
   "outputs": [],
   "source": [
    "square()"
   ]
  },
  {
   "cell_type": "code",
   "execution_count": null,
   "id": "09dc6719-7c05-4511-b7f1-cca214ba959c",
   "metadata": {},
   "outputs": [],
   "source": [
    "square(5)"
   ]
  },
  {
   "cell_type": "code",
   "execution_count": null,
   "id": "48dff122-6e7e-4ece-b4e1-afc92f6ddee1",
   "metadata": {},
   "outputs": [],
   "source": [
    "# len()"
   ]
  },
  {
   "cell_type": "code",
   "execution_count": null,
   "id": "c7a88de9-1294-408b-a4eb-30f82cee1656",
   "metadata": {},
   "outputs": [],
   "source": [
    "# help(square)"
   ]
  },
  {
   "cell_type": "code",
   "execution_count": null,
   "id": "1502ca1f-8bd7-44eb-845d-f0a63615ddb8",
   "metadata": {},
   "outputs": [],
   "source": [
    "# help(float)"
   ]
  },
  {
   "cell_type": "code",
   "execution_count": null,
   "id": "0f5c8c8b-292d-46d2-88d9-5e12c9c94758",
   "metadata": {},
   "outputs": [],
   "source": [
    "import math\n",
    "\n"
   ]
  },
  {
   "cell_type": "code",
   "execution_count": null,
   "id": "18c9bdf7-0b61-46db-8e8b-f9b58c8a1194",
   "metadata": {},
   "outputs": [],
   "source": [
    "type(math)"
   ]
  },
  {
   "cell_type": "code",
   "execution_count": null,
   "id": "aaa6122b-5271-43f3-8461-8faa238bef52",
   "metadata": {},
   "outputs": [],
   "source": [
    "def calculate_wind_chill(temperature, wind_speed):\n",
    "    wind_chill = 13.12 + 0.6215 * temperature - 11.37 * math.pow(wind_speed, 0.16)\n",
    "    return wind_chill"
   ]
  },
  {
   "cell_type": "code",
   "execution_count": 1,
   "id": "b3bea97b-89bf-4dd7-8a10-bb7967522040",
   "metadata": {},
   "outputs": [
    {
     "ename": "NameError",
     "evalue": "name 'calculate_wind_chill' is not defined",
     "output_type": "error",
     "traceback": [
      "\u001b[1;31m---------------------------------------------------------------------------\u001b[0m",
      "\u001b[1;31mNameError\u001b[0m                                 Traceback (most recent call last)",
      "Cell \u001b[1;32mIn[1], line 4\u001b[0m\n\u001b[0;32m      1\u001b[0m temp \u001b[38;5;241m=\u001b[39m \u001b[38;5;241m-\u001b[39m\u001b[38;5;241m5\u001b[39m  \u001b[38;5;66;03m# degrees Celsius\u001b[39;00m\n\u001b[0;32m      2\u001b[0m ws \u001b[38;5;241m=\u001b[39m \u001b[38;5;241m20\u001b[39m   \u001b[38;5;66;03m# kilometers per hour\u001b[39;00m\n\u001b[1;32m----> 4\u001b[0m chill_1 \u001b[38;5;241m=\u001b[39m \u001b[43mcalculate_wind_chill\u001b[49m(temperature\u001b[38;5;241m=\u001b[39mtemp, wind_speed\u001b[38;5;241m=\u001b[39mws)\n",
      "\u001b[1;31mNameError\u001b[0m: name 'calculate_wind_chill' is not defined"
     ]
    }
   ],
   "source": [
    "temp = -5  # degrees Celsius\n",
    "ws = 20   # kilometers per hour\n",
    "\n",
    "chill_1 = calculate_wind_chill(temperature=temp, wind_speed=ws)"
   ]
  },
  {
   "cell_type": "code",
   "execution_count": null,
   "id": "545c9600-767b-4c0c-8a71-37a590d2ebf8",
   "metadata": {},
   "outputs": [],
   "source": [
    "print(chill_1)"
   ]
  },
  {
   "cell_type": "code",
   "execution_count": 2,
   "id": "35730f8c-8eb5-4bde-bdbf-f61baaa50bcb",
   "metadata": {},
   "outputs": [],
   "source": [
    "from my_module import calculate_wind_chill, square"
   ]
  },
  {
   "cell_type": "code",
   "execution_count": 3,
   "id": "c982aa7d-f70f-4403-8a0f-3188a04c0ab5",
   "metadata": {},
   "outputs": [
    {
     "data": {
      "text/plain": [
       "-17.028202541479768"
      ]
     },
     "execution_count": 3,
     "metadata": {},
     "output_type": "execute_result"
    }
   ],
   "source": [
    "calculate_wind_chill(-20, 16)"
   ]
  },
  {
   "cell_type": "code",
   "execution_count": 4,
   "id": "f31ab290-c484-44a5-b5bd-aeef713e1235",
   "metadata": {},
   "outputs": [],
   "source": [
    "def weight_of_object (mass, gravity = 9.81):\n",
    "    weight = mass * gravity\n",
    "    return weight"
   ]
  },
  {
   "cell_type": "code",
   "execution_count": 5,
   "id": "8ca5e57a-3782-494b-8913-fdc26e1b8d6f",
   "metadata": {},
   "outputs": [
    {
     "name": "stdout",
     "output_type": "stream",
     "text": [
      "Weight of an apple in Newtons: 2.943\n"
     ]
    }
   ],
   "source": [
    "print('Weight of an apple in Newtons:', weight_of_object(.3))"
   ]
  },
  {
   "cell_type": "code",
   "execution_count": 6,
   "id": "b1f7e735-7781-48aa-9784-7c8c95b65032",
   "metadata": {},
   "outputs": [],
   "source": [
    "def find_even_numbers(n):\n",
    "    '''\n",
    "    return even numbers of n\n",
    "    \n",
    "    '''\n",
    "    evens = []\n",
    "    for i in range(n + 1):\n",
    "        if i % 2 == 0:\n",
    "            evens.append(i)\n",
    "    return evens"
   ]
  },
  {
   "cell_type": "code",
   "execution_count": 8,
   "id": "5b109b9d-065c-4af1-b1af-adaeedbccfd0",
   "metadata": {},
   "outputs": [],
   "source": [
    "a = find_even_numbers(13)"
   ]
  },
  {
   "cell_type": "code",
   "execution_count": 9,
   "id": "49b3ea09-3233-4f1e-bd9a-d81604b75afb",
   "metadata": {},
   "outputs": [
    {
     "data": {
      "text/plain": [
       "[0, 2, 4, 6, 8, 10, 12]"
      ]
     },
     "execution_count": 9,
     "metadata": {},
     "output_type": "execute_result"
    }
   ],
   "source": [
    "a"
   ]
  },
  {
   "cell_type": "code",
   "execution_count": null,
   "id": "cb457162-75d9-4698-83d7-3b4dbb9b9da1",
   "metadata": {},
   "outputs": [],
   "source": []
  }
 ],
 "metadata": {
  "kernelspec": {
   "display_name": "Python 3 (ipykernel)",
   "language": "python",
   "name": "python3"
  },
  "language_info": {
   "codemirror_mode": {
    "name": "ipython",
    "version": 3
   },
   "file_extension": ".py",
   "mimetype": "text/x-python",
   "name": "python",
   "nbconvert_exporter": "python",
   "pygments_lexer": "ipython3",
   "version": "3.9.19"
  }
 },
 "nbformat": 4,
 "nbformat_minor": 5
}
