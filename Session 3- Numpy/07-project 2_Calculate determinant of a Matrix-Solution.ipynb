{
 "cells": [
  {
   "cell_type": "code",
   "execution_count": null,
   "id": "4f813c58",
   "metadata": {},
   "outputs": [],
   "source": [
    "import numpy as np\n",
    "import timeit\n",
    "\n",
    "# Step 1: Function to generate a 5x5 matrix with random integers\n",
    "def create_matrix(n=5):\n",
    "    return np.random.randint(1, 10, size=(n, n))\n",
    "\n",
    "# Step 2: Function to calculate the determinant of a matrix\n",
    "def calc_determinant(matrix):\n",
    "    # Base case: if the matrix is 1x1\n",
    "    if matrix.shape[0] == 1:\n",
    "        return matrix[0, 0]\n",
    "    # Base case: if the matrix is 2x2\n",
    "    elif matrix.shape[0] == 2:\n",
    "        # (hint: for 2x2 matrices, determinant = ad - bc)\n",
    "        determinant = matrix[0, 0] * matrix[1, 1] - matrix[0, 1] * matrix[1, 0]\n",
    "        return determinant\n",
    "    determinant = 0\n",
    "    for c in range(matrix.shape[1]):\n",
    "        # Recursion formula. (DO NOT change this part of code!):\n",
    "        determinant += ((-1) ** c) * matrix[0, c] * calc_determinant(np.delete(np.delete(matrix, 0, axis=0), c, axis=1))\n",
    "    return determinant\n",
    "\n",
    "# Create a 5x5 matrix\n",
    "matrix = create_matrix(5)\n",
    "\n",
    "# Calculate determinant manually\n",
    "start_time_manual = timeit.default_timer()\n",
    "det_manual = calc_determinant(matrix)\n",
    "time_manual = timeit.default_timer() - start_time_manual\n",
    "\n",
    "# Calculate determinant using NumPy\n",
    "start_time_numpy = timeit.default_timer()\n",
    "det_numpy = np.linalg.det(matrix)\n",
    "time_numpy = timeit.default_timer() - start_time_numpy\n",
    "\n",
    "# Print results and compare speeds\n",
    "print(f\"Manual Determinant: {det_manual} (Time: {time_manual:.5f} seconds)\")\n",
    "print(f\"NumPy Determinant: {det_numpy} (Time: {time_numpy:.5f} seconds)\")\n",
    "ratio = time_manual / time_numpy\n",
    "print(f\"Manual/Numpy Time Ratio: {ratio:.5f}\")\n",
    "print(f\"So NumPy calc is {ratio:.2f} times faster than manual loop.\")\n"
   ]
  }
 ],
 "metadata": {
  "kernelspec": {
   "display_name": "Python 3 (ipykernel)",
   "language": "python",
   "name": "python3"
  },
  "language_info": {
   "codemirror_mode": {
    "name": "ipython",
    "version": 3
   },
   "file_extension": ".py",
   "mimetype": "text/x-python",
   "name": "python",
   "nbconvert_exporter": "python",
   "pygments_lexer": "ipython3",
   "version": "3.8.16"
  }
 },
 "nbformat": 4,
 "nbformat_minor": 5
}
