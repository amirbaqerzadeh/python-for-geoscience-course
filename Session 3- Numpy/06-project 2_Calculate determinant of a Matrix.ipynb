{
 "cells": [
  {
   "cell_type": "markdown",
   "id": "d258abad",
   "metadata": {},
   "source": [
    "# project 2: Calculate determinant of a Matrix"
   ]
  },
  {
   "cell_type": "markdown",
   "id": "1ff98cfb",
   "metadata": {},
   "source": [
    "### This project has three parts:\n",
    "#### part 1: Write a program to calculate determinant of a $5\\times 5$ matrix\n",
    "\n",
    "#### part 2: Use $np.linalg.det(matrix)$ to calculate the determinant\n",
    "\n",
    "#### part 3: Measure and compare the execution time of the manual determinant calculation versus using NumPy’s built-in function using the 'timeit' library. "
   ]
  },
  {
   "cell_type": "markdown",
   "id": "d0ddb2fb",
   "metadata": {},
   "source": [
    "# Manual Determinant Calculation\n",
    "\n",
    "## Step 1: Understanding the Determinant\n",
    "\n",
    "The **determinant** of a square matrix is a scalar value that provides significant information about the matrix and the linear transformation it represents. This value can reveal:\n",
    "\n",
    "- **Geometric Properties**: How the transformation affects areas or volumes, indicating whether it scales, reflects, or rotates the space.\n",
    "- **Solvability of Linear Systems**: Whether a set of linear equations (represented by the matrix) has a unique solution, no solution, or infinitely many solutions.\n",
    "see more: https://mathinsight.org/determinant_geometric_properties\n",
    "\n",
    "### Mathematical Definition\n",
    "\n",
    "For a 2x2 matrix \\( A \\), the determinant is calculated as follows:\n",
    "\n",
    "$$\n",
    "\\text{det}(A) = ad - bc\n",
    "$$\n",
    "\n",
    "Where \\( A \\) is:\n",
    "\n",
    "$$\n",
    "A = \\begin{pmatrix}\n",
    "a & b \\\\\n",
    "c & d\n",
    "\\end{pmatrix}\n",
    "$$\n",
    "\n",
    "### Interpretation\n",
    "\n",
    "The determinant can be interpreted as the scaling factor of the area (in 2D) or volume (in 3D) when the linear transformation represented by the matrix is applied to a geometric shape. For instance, if the determinant is:\n",
    "\n",
    "- **1 or -1**: The transformation preserves the area/volume but may reflect the shape.\n",
    "- **0**: The transformation squashes the space into a lower dimension, indicating linearly dependent rows or columns.\n",
    "- **Greater than 1 or less than -1**: The transformation scales the area/volume by the absolute value of the determinant.\n"
   ]
  },
  {
   "cell_type": "markdown",
   "id": "4684ee6a",
   "metadata": {},
   "source": [
    "## Step 2: Creating the Matrix\n",
    "\n",
    "To explore determinants practically, we first need a matrix to work with. We'll create a function in Python to generate a 5x5 matrix filled with random integers. This function will be essential for testing our determinant calculation function later on.\n",
    "\n",
    "### Function to Generate a Random 5x5 Matrix\n",
    "\n",
    "We will use the `numpy` library, which provides a comprehensive set of functions to work with arrays in Python, including the generation of random numbers.\n"
   ]
  },
  {
   "cell_type": "markdown",
   "id": "dbb38c52",
   "metadata": {},
   "source": [
    "## Step 3: Implementing the Determinant Function\n",
    "\n",
    "Calculating the determinant of a matrix is crucial for understanding many properties of linear transformations. For larger matrices, the determinant can be computed using recursion and the concept of minors.\n",
    "\n",
    "### Concept of Minors and Recursion\n",
    "\n",
    "A *minor* of a matrix is the determinant of some smaller square matrix, cut down from the original matrix by removing one row and one column. The cofactor is calculated by multiplying the minor by $((-1)^{i+j})$, where $(i)$ and $(j)$ are the row and column indices of the element being expanded.\n",
    "\n",
    "### Implementing the Determinant Function\n",
    "\n",
    "We will create a recursive function in Python to compute the determinant. This function will handle any $( n \\times n )$ matrix, particularly useful for our 5x5 matrix example.\n"
   ]
  },
  {
   "cell_type": "code",
   "execution_count": 35,
   "id": "f5cd96e7",
   "metadata": {
    "scrolled": true
   },
   "outputs": [
    {
     "name": "stdout",
     "output_type": "stream",
     "text": [
      "Manual Determinant: -1036 (Time: 0.00399 seconds)\n",
      "NumPy Determinant: -1035.9999999999998 (Time: 0.00005 seconds)\n",
      "72.89234\n"
     ]
    }
   ],
   "source": [
    "import numpy as np\n",
    "import timeit\n",
    "\n",
    "# Step 1: Function to generate a 5x5 matrix with random integers\n",
    "def create_matrix(n=5):\n",
    "    return #ToDo\n",
    "\n",
    "# Step 2: Function to calculate the determinant of a matrix\n",
    "def calc_determinant(matrix):\n",
    "    # Base case: if the matrix is 1x1\n",
    "    if matrix.shape[0] == 1:\n",
    "        return #ToDo\n",
    "    # Base case: if the matrix is 2x2\n",
    "    elif matrix.shape[0] == 2:\n",
    "        # (hint: for 2x2 matrice, determinant = ad - bc)\n",
    "        determinant = #ToDo \n",
    "        return determinant\n",
    "    determinant = 0\n",
    "    for c in range(matrix.shape[1]):\n",
    "        # Recursion formula. (DO NOT change this part of code!):\n",
    "        determinant += ((-1) ** c) * matrix[0, c] * calc_determinant(np.delete(np.delete(matrix, 0, axis=0), c, axis=1))\n",
    "    return determinant\n",
    "\n",
    "# Step 3: Function to compare determinant calculations\n",
    "\n",
    "# Create a 5x5 matrix\n",
    "matrix = create_matrix(5)\n",
    "\n",
    "# Calculate determinant manually\n",
    "start_time_manual = timeit.default_timer()\n",
    "det_manual = #ToDo (use above function to calculate deterninant)\n",
    "time_manual = timeit.default_timer() - start_time_manual\n",
    "\n",
    "# Calculate determinant using NumPy\n",
    "start_time_numpy = timeit.default_timer()\n",
    "det_numpy = np.linalg.det(matrix)\n",
    "time_numpy = timeit.default_timer() - start_time_numpy\n",
    "\n",
    "print(f\"Manual Determinant: {det_manual} (Time: {time_manual:.5f} seconds)\")\n",
    "print(f\"NumPy Determinant: {det_numpy} (Time: {time_numpy:.5f} seconds)\")\n",
    "print( f\"{time_manual/time_numpy:.5f}\")\n",
    "\n",
    "\n"
   ]
  },
  {
   "cell_type": "code",
   "execution_count": null,
   "id": "5325d2bc",
   "metadata": {},
   "outputs": [],
   "source": []
  }
 ],
 "metadata": {
  "kernelspec": {
   "display_name": "Python 3 (ipykernel)",
   "language": "python",
   "name": "python3"
  },
  "language_info": {
   "codemirror_mode": {
    "name": "ipython",
    "version": 3
   },
   "file_extension": ".py",
   "mimetype": "text/x-python",
   "name": "python",
   "nbconvert_exporter": "python",
   "pygments_lexer": "ipython3",
   "version": "3.10.8"
  }
 },
 "nbformat": 4,
 "nbformat_minor": 5
}
