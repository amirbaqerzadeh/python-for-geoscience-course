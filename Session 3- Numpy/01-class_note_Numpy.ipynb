{
 "cells": [
  {
   "cell_type": "code",
   "execution_count": 2,
   "id": "fd9c106f-ce70-4165-9243-0e2ac7b39ccb",
   "metadata": {},
   "outputs": [],
   "source": [
    "import numpy as np"
   ]
  },
  {
   "cell_type": "code",
   "execution_count": 3,
   "id": "402185d2-0245-4791-b504-57306d76093d",
   "metadata": {},
   "outputs": [],
   "source": [
    "my_list = [1, 2, 3, 4]"
   ]
  },
  {
   "cell_type": "code",
   "execution_count": 4,
   "id": "4cbe6d11-801b-430a-9c5f-1549eaed27ab",
   "metadata": {},
   "outputs": [
    {
     "data": {
      "text/plain": [
       "list"
      ]
     },
     "execution_count": 4,
     "metadata": {},
     "output_type": "execute_result"
    }
   ],
   "source": [
    "type(my_list)"
   ]
  },
  {
   "cell_type": "code",
   "execution_count": 5,
   "id": "cbb591ba-1a7c-49e8-8b70-edb910bc73f7",
   "metadata": {},
   "outputs": [],
   "source": [
    "my_array = np.array(my_list)"
   ]
  },
  {
   "cell_type": "code",
   "execution_count": 6,
   "id": "f0004514-df18-4477-975b-c9b7362af33b",
   "metadata": {},
   "outputs": [
    {
     "data": {
      "text/plain": [
       "numpy.ndarray"
      ]
     },
     "execution_count": 6,
     "metadata": {},
     "output_type": "execute_result"
    }
   ],
   "source": [
    "type(my_array)"
   ]
  },
  {
   "cell_type": "code",
   "execution_count": 7,
   "id": "19c82e03-c528-4a9a-b14c-bb5f52025fa4",
   "metadata": {},
   "outputs": [],
   "source": [
    "matrix_list = [[1, 2, 3],\n",
    "               [4, 5, 6],\n",
    "               [7, 8, 9]]"
   ]
  },
  {
   "cell_type": "code",
   "execution_count": 8,
   "id": "e75f5024-eb31-4321-9b48-9c31930259eb",
   "metadata": {},
   "outputs": [],
   "source": [
    "my_matrix = np.array(matrix_list)"
   ]
  },
  {
   "cell_type": "code",
   "execution_count": 9,
   "id": "bd59f270-19e6-483e-b591-a6a2f7ebb7e8",
   "metadata": {},
   "outputs": [
    {
     "data": {
      "text/plain": [
       "array([[1, 2, 3],\n",
       "       [4, 5, 6],\n",
       "       [7, 8, 9]])"
      ]
     },
     "execution_count": 9,
     "metadata": {},
     "output_type": "execute_result"
    }
   ],
   "source": [
    "my_matrix"
   ]
  },
  {
   "cell_type": "code",
   "execution_count": 10,
   "id": "60b72655-9c45-4bbe-a62b-1e263acf75db",
   "metadata": {},
   "outputs": [
    {
     "data": {
      "text/plain": [
       "array([ 2,  3,  4,  5,  6,  7,  8,  9, 10, 11])"
      ]
     },
     "execution_count": 10,
     "metadata": {},
     "output_type": "execute_result"
    }
   ],
   "source": [
    "np.arange(2, 12)"
   ]
  },
  {
   "cell_type": "code",
   "execution_count": 11,
   "id": "72943d8a-1101-498a-a5ed-c3cafb9aaeac",
   "metadata": {},
   "outputs": [
    {
     "data": {
      "text/plain": [
       "array([ 2,  4,  6,  8, 10, 12, 14, 16, 18])"
      ]
     },
     "execution_count": 11,
     "metadata": {},
     "output_type": "execute_result"
    }
   ],
   "source": [
    "np.arange(2, 20, 2)"
   ]
  },
  {
   "cell_type": "code",
   "execution_count": 12,
   "id": "1dd36b14-21a1-4f57-81e8-49c7b01725b2",
   "metadata": {},
   "outputs": [
    {
     "data": {
      "text/plain": [
       "array([[0., 0., 0., 0., 0.],\n",
       "       [0., 0., 0., 0., 0.],\n",
       "       [0., 0., 0., 0., 0.],\n",
       "       [0., 0., 0., 0., 0.],\n",
       "       [0., 0., 0., 0., 0.]])"
      ]
     },
     "execution_count": 12,
     "metadata": {},
     "output_type": "execute_result"
    }
   ],
   "source": [
    "s = (5, 5)\n",
    "np.zeros(s)"
   ]
  },
  {
   "cell_type": "code",
   "execution_count": 13,
   "id": "710835f8-d182-4e55-a759-8ba4d22755c2",
   "metadata": {},
   "outputs": [
    {
     "data": {
      "text/plain": [
       "array([[1., 1., 1., 1.],\n",
       "       [1., 1., 1., 1.],\n",
       "       [1., 1., 1., 1.],\n",
       "       [1., 1., 1., 1.],\n",
       "       [1., 1., 1., 1.],\n",
       "       [1., 1., 1., 1.]])"
      ]
     },
     "execution_count": 13,
     "metadata": {},
     "output_type": "execute_result"
    }
   ],
   "source": [
    "np.ones((6, 4))"
   ]
  },
  {
   "cell_type": "code",
   "execution_count": 15,
   "id": "79d6d7d7-0ba3-48d1-b1d3-e0c27dfcf7ff",
   "metadata": {},
   "outputs": [],
   "source": [
    "# help(np.linspace)"
   ]
  },
  {
   "cell_type": "code",
   "execution_count": 16,
   "id": "84a7e28d-b4ec-405e-89ce-a942098d974a",
   "metadata": {},
   "outputs": [
    {
     "data": {
      "text/plain": [
       "array([-1.        , -0.97979798, -0.95959596, -0.93939394, -0.91919192,\n",
       "       -0.8989899 , -0.87878788, -0.85858586, -0.83838384, -0.81818182,\n",
       "       -0.7979798 , -0.77777778, -0.75757576, -0.73737374, -0.71717172,\n",
       "       -0.6969697 , -0.67676768, -0.65656566, -0.63636364, -0.61616162,\n",
       "       -0.5959596 , -0.57575758, -0.55555556, -0.53535354, -0.51515152,\n",
       "       -0.49494949, -0.47474747, -0.45454545, -0.43434343, -0.41414141,\n",
       "       -0.39393939, -0.37373737, -0.35353535, -0.33333333, -0.31313131,\n",
       "       -0.29292929, -0.27272727, -0.25252525, -0.23232323, -0.21212121,\n",
       "       -0.19191919, -0.17171717, -0.15151515, -0.13131313, -0.11111111,\n",
       "       -0.09090909, -0.07070707, -0.05050505, -0.03030303, -0.01010101,\n",
       "        0.01010101,  0.03030303,  0.05050505,  0.07070707,  0.09090909,\n",
       "        0.11111111,  0.13131313,  0.15151515,  0.17171717,  0.19191919,\n",
       "        0.21212121,  0.23232323,  0.25252525,  0.27272727,  0.29292929,\n",
       "        0.31313131,  0.33333333,  0.35353535,  0.37373737,  0.39393939,\n",
       "        0.41414141,  0.43434343,  0.45454545,  0.47474747,  0.49494949,\n",
       "        0.51515152,  0.53535354,  0.55555556,  0.57575758,  0.5959596 ,\n",
       "        0.61616162,  0.63636364,  0.65656566,  0.67676768,  0.6969697 ,\n",
       "        0.71717172,  0.73737374,  0.75757576,  0.77777778,  0.7979798 ,\n",
       "        0.81818182,  0.83838384,  0.85858586,  0.87878788,  0.8989899 ,\n",
       "        0.91919192,  0.93939394,  0.95959596,  0.97979798,  1.        ])"
      ]
     },
     "execution_count": 16,
     "metadata": {},
     "output_type": "execute_result"
    }
   ],
   "source": [
    "np.linspace(-1, 1, 100)"
   ]
  },
  {
   "cell_type": "code",
   "execution_count": 17,
   "id": "2f8e8430-33ab-4400-aa31-097399717b74",
   "metadata": {},
   "outputs": [
    {
     "data": {
      "text/plain": [
       "array([2.  , 2.25, 2.5 , 2.75, 3.  ])"
      ]
     },
     "execution_count": 17,
     "metadata": {},
     "output_type": "execute_result"
    }
   ],
   "source": [
    "np.linspace(2, 3, num=5)"
   ]
  },
  {
   "cell_type": "code",
   "execution_count": 18,
   "id": "5a2b4800-251d-4c93-8315-188e02945aa7",
   "metadata": {},
   "outputs": [
    {
     "data": {
      "text/plain": [
       "array([[1., 0., 0., 0., 0.],\n",
       "       [0., 1., 0., 0., 0.],\n",
       "       [0., 0., 1., 0., 0.],\n",
       "       [0., 0., 0., 1., 0.],\n",
       "       [0., 0., 0., 0., 1.]])"
      ]
     },
     "execution_count": 18,
     "metadata": {},
     "output_type": "execute_result"
    }
   ],
   "source": [
    "np.eye(5)"
   ]
  },
  {
   "cell_type": "code",
   "execution_count": 19,
   "id": "63943ec2-ad3c-4ce2-bfb9-b04a39c7e96e",
   "metadata": {},
   "outputs": [
    {
     "data": {
      "text/plain": [
       "array([0.62516846, 0.04361235])"
      ]
     },
     "execution_count": 19,
     "metadata": {},
     "output_type": "execute_result"
    }
   ],
   "source": [
    "# Random\n",
    "\n",
    "np.random.rand(2)"
   ]
  },
  {
   "cell_type": "code",
   "execution_count": 20,
   "id": "f91d0863-9900-4952-81ac-7cd9e3153e24",
   "metadata": {},
   "outputs": [
    {
     "data": {
      "text/plain": [
       "array([[0.63449637, 0.93465109, 0.22822264, 0.81714762, 0.50749781,\n",
       "        0.55322257],\n",
       "       [0.65673307, 0.03602172, 0.2072543 , 0.71366634, 0.61522499,\n",
       "        0.43658493],\n",
       "       [0.13391581, 0.92234465, 0.26659691, 0.99989938, 0.76605634,\n",
       "        0.18435509],\n",
       "       [0.01849515, 0.2979045 , 0.55191305, 0.52243604, 0.32056327,\n",
       "        0.52800132],\n",
       "       [0.29611008, 0.2976073 , 0.80718767, 0.21553893, 0.44983422,\n",
       "        0.55513328],\n",
       "       [0.02676782, 0.86119885, 0.31613616, 0.9219918 , 0.36276555,\n",
       "        0.75270563]])"
      ]
     },
     "execution_count": 20,
     "metadata": {},
     "output_type": "execute_result"
    }
   ],
   "source": [
    "np.random.rand(6, 6)"
   ]
  },
  {
   "cell_type": "code",
   "execution_count": 26,
   "id": "e4e0572e-ed7c-4086-ab5b-8f792b70fd62",
   "metadata": {},
   "outputs": [
    {
     "data": {
      "text/plain": [
       "array([52, 93, 15, 72, 61, 21])"
      ]
     },
     "execution_count": 26,
     "metadata": {},
     "output_type": "execute_result"
    }
   ],
   "source": [
    "np.random.seed(42)\n",
    "np.random.randint(1, 100, 6)"
   ]
  },
  {
   "cell_type": "code",
   "execution_count": 28,
   "id": "4661c667-8627-44fa-a05c-d5e597e8af4b",
   "metadata": {},
   "outputs": [],
   "source": [
    "I = np.eye(5)"
   ]
  },
  {
   "cell_type": "code",
   "execution_count": 29,
   "id": "49f2c334-51f2-4f79-a36c-a12dd3ee4140",
   "metadata": {},
   "outputs": [
    {
     "data": {
      "text/plain": [
       "numpy.ndarray"
      ]
     },
     "execution_count": 29,
     "metadata": {},
     "output_type": "execute_result"
    }
   ],
   "source": [
    "type(I)"
   ]
  },
  {
   "cell_type": "code",
   "execution_count": 30,
   "id": "44fc46b6-3a81-4cb5-8d58-bbad02afa9db",
   "metadata": {},
   "outputs": [
    {
     "data": {
      "text/plain": [
       "(5, 5)"
      ]
     },
     "execution_count": 30,
     "metadata": {},
     "output_type": "execute_result"
    }
   ],
   "source": [
    "I.shape"
   ]
  },
  {
   "cell_type": "code",
   "execution_count": 31,
   "id": "c6afbcde-6ac3-41a1-bb9d-66b160e42d59",
   "metadata": {},
   "outputs": [],
   "source": [
    "# reshape\n",
    "arr_1 = np.arange(25)"
   ]
  },
  {
   "cell_type": "code",
   "execution_count": 32,
   "id": "33707089-5c66-4503-88d2-5830ca09f426",
   "metadata": {},
   "outputs": [
    {
     "data": {
      "text/plain": [
       "(25,)"
      ]
     },
     "execution_count": 32,
     "metadata": {},
     "output_type": "execute_result"
    }
   ],
   "source": [
    "arr_1.shape"
   ]
  },
  {
   "cell_type": "code",
   "execution_count": 33,
   "id": "75243a18-e0a7-4108-b0fc-1ce0ccfff059",
   "metadata": {},
   "outputs": [
    {
     "data": {
      "text/plain": [
       "array([[ 0,  1,  2,  3,  4],\n",
       "       [ 5,  6,  7,  8,  9],\n",
       "       [10, 11, 12, 13, 14],\n",
       "       [15, 16, 17, 18, 19],\n",
       "       [20, 21, 22, 23, 24]])"
      ]
     },
     "execution_count": 33,
     "metadata": {},
     "output_type": "execute_result"
    }
   ],
   "source": [
    "arr_1.reshape(5, 5)"
   ]
  },
  {
   "cell_type": "code",
   "execution_count": 34,
   "id": "0bf0b5cd-2ab7-4738-a2cc-73923f4fcb70",
   "metadata": {},
   "outputs": [],
   "source": [
    "arr_1 = arr_1.reshape(5, 5)"
   ]
  },
  {
   "cell_type": "code",
   "execution_count": 35,
   "id": "4721f452-787a-46ba-96ee-5cd0b01637f5",
   "metadata": {
    "scrolled": true
   },
   "outputs": [
    {
     "data": {
      "text/plain": [
       "array([[ 0,  1,  2,  3,  4],\n",
       "       [ 5,  6,  7,  8,  9],\n",
       "       [10, 11, 12, 13, 14],\n",
       "       [15, 16, 17, 18, 19],\n",
       "       [20, 21, 22, 23, 24]])"
      ]
     },
     "execution_count": 35,
     "metadata": {},
     "output_type": "execute_result"
    }
   ],
   "source": [
    "arr_1"
   ]
  },
  {
   "cell_type": "code",
   "execution_count": 36,
   "id": "78b9174f",
   "metadata": {},
   "outputs": [
    {
     "data": {
      "text/plain": [
       "25"
      ]
     },
     "execution_count": 36,
     "metadata": {},
     "output_type": "execute_result"
    }
   ],
   "source": [
    "arr_1.size"
   ]
  },
  {
   "cell_type": "code",
   "execution_count": 37,
   "id": "3bf924d8-c35a-4daf-abe7-3a7482421ee4",
   "metadata": {},
   "outputs": [
    {
     "ename": "ValueError",
     "evalue": "cannot reshape array of size 25 into shape (3,5)",
     "output_type": "error",
     "traceback": [
      "\u001b[1;31m---------------------------------------------------------------------------\u001b[0m",
      "\u001b[1;31mValueError\u001b[0m                                Traceback (most recent call last)",
      "Cell \u001b[1;32mIn[37], line 1\u001b[0m\n\u001b[1;32m----> 1\u001b[0m \u001b[43marr_1\u001b[49m\u001b[38;5;241;43m.\u001b[39;49m\u001b[43mreshape\u001b[49m\u001b[43m(\u001b[49m\u001b[38;5;241;43m3\u001b[39;49m\u001b[43m,\u001b[49m\u001b[43m \u001b[49m\u001b[38;5;241;43m5\u001b[39;49m\u001b[43m)\u001b[49m\n",
      "\u001b[1;31mValueError\u001b[0m: cannot reshape array of size 25 into shape (3,5)"
     ]
    }
   ],
   "source": [
    "arr_1.reshape(3, 5)"
   ]
  },
  {
   "cell_type": "code",
   "execution_count": 38,
   "id": "8a211aaa-b082-4678-a0c5-303b4be6ad61",
   "metadata": {},
   "outputs": [
    {
     "data": {
      "text/plain": [
       "(5, 5)"
      ]
     },
     "execution_count": 38,
     "metadata": {},
     "output_type": "execute_result"
    }
   ],
   "source": [
    "arr_1.shape"
   ]
  },
  {
   "cell_type": "code",
   "execution_count": 40,
   "id": "af84f740-7da6-43f5-9a7a-8f04e7b81176",
   "metadata": {},
   "outputs": [
    {
     "data": {
      "text/plain": [
       "array([[ 0,  1,  2,  3,  4,  5,  6,  7,  8,  9, 10, 11, 12, 13, 14, 15,\n",
       "        16, 17, 18, 19, 20, 21, 22, 23, 24]])"
      ]
     },
     "execution_count": 40,
     "metadata": {},
     "output_type": "execute_result"
    }
   ],
   "source": [
    "arr_1.reshape(-1, 25)"
   ]
  },
  {
   "cell_type": "code",
   "execution_count": 41,
   "id": "a6ead72b",
   "metadata": {},
   "outputs": [
    {
     "data": {
      "text/plain": [
       "array([[ 0],\n",
       "       [ 1],\n",
       "       [ 2],\n",
       "       [ 3],\n",
       "       [ 4],\n",
       "       [ 5],\n",
       "       [ 6],\n",
       "       [ 7],\n",
       "       [ 8],\n",
       "       [ 9],\n",
       "       [10],\n",
       "       [11],\n",
       "       [12],\n",
       "       [13],\n",
       "       [14],\n",
       "       [15],\n",
       "       [16],\n",
       "       [17],\n",
       "       [18],\n",
       "       [19],\n",
       "       [20],\n",
       "       [21],\n",
       "       [22],\n",
       "       [23],\n",
       "       [24]])"
      ]
     },
     "execution_count": 41,
     "metadata": {},
     "output_type": "execute_result"
    }
   ],
   "source": [
    "arr_1.reshape(25, -1)"
   ]
  },
  {
   "cell_type": "code",
   "execution_count": 42,
   "id": "5a30f9c2",
   "metadata": {},
   "outputs": [],
   "source": [
    "arr_2 = arr_1.reshape(arr_1.shape[0], -1)"
   ]
  },
  {
   "cell_type": "code",
   "execution_count": 44,
   "id": "0e6626b6",
   "metadata": {},
   "outputs": [
    {
     "data": {
      "text/plain": [
       "(5, 5)"
      ]
     },
     "execution_count": 44,
     "metadata": {},
     "output_type": "execute_result"
    }
   ],
   "source": [
    "arr_2.shape"
   ]
  },
  {
   "cell_type": "code",
   "execution_count": 45,
   "id": "a4ff7bea",
   "metadata": {},
   "outputs": [
    {
     "data": {
      "text/plain": [
       "2"
      ]
     },
     "execution_count": 45,
     "metadata": {},
     "output_type": "execute_result"
    }
   ],
   "source": [
    "arr_1.ndim"
   ]
  },
  {
   "cell_type": "code",
   "execution_count": 46,
   "id": "6a648eb4",
   "metadata": {},
   "outputs": [
    {
     "data": {
      "text/plain": [
       "24"
      ]
     },
     "execution_count": 46,
     "metadata": {},
     "output_type": "execute_result"
    }
   ],
   "source": [
    "arr_2.max()"
   ]
  },
  {
   "cell_type": "code",
   "execution_count": 47,
   "id": "70096fd9",
   "metadata": {},
   "outputs": [
    {
     "data": {
      "text/plain": [
       "array([[ 0,  1,  2,  3,  4],\n",
       "       [ 5,  6,  7,  8,  9],\n",
       "       [10, 11, 12, 13, 14],\n",
       "       [15, 16, 17, 18, 19],\n",
       "       [20, 21, 22, 23, 24]])"
      ]
     },
     "execution_count": 47,
     "metadata": {},
     "output_type": "execute_result"
    }
   ],
   "source": [
    "arr_2"
   ]
  },
  {
   "cell_type": "code",
   "execution_count": 48,
   "id": "a0f54530",
   "metadata": {},
   "outputs": [
    {
     "data": {
      "text/plain": [
       "0"
      ]
     },
     "execution_count": 48,
     "metadata": {},
     "output_type": "execute_result"
    }
   ],
   "source": [
    "arr_2.min()"
   ]
  },
  {
   "cell_type": "code",
   "execution_count": 49,
   "id": "6e4aae20",
   "metadata": {},
   "outputs": [
    {
     "data": {
      "text/plain": [
       "12.0"
      ]
     },
     "execution_count": 49,
     "metadata": {},
     "output_type": "execute_result"
    }
   ],
   "source": [
    "arr_2.mean()"
   ]
  },
  {
   "cell_type": "code",
   "execution_count": 50,
   "id": "2a8c92ac",
   "metadata": {},
   "outputs": [
    {
     "data": {
      "text/plain": [
       "24"
      ]
     },
     "execution_count": 50,
     "metadata": {},
     "output_type": "execute_result"
    }
   ],
   "source": [
    "arr_2.argmax()"
   ]
  },
  {
   "cell_type": "code",
   "execution_count": 51,
   "id": "33f970a8",
   "metadata": {},
   "outputs": [
    {
     "data": {
      "text/plain": [
       "dtype('int32')"
      ]
     },
     "execution_count": 51,
     "metadata": {},
     "output_type": "execute_result"
    }
   ],
   "source": [
    "arr_2.dtype"
   ]
  },
  {
   "cell_type": "code",
   "execution_count": 52,
   "id": "29080f97",
   "metadata": {},
   "outputs": [],
   "source": [
    "arr = np.arange(0 ,11)"
   ]
  },
  {
   "cell_type": "code",
   "execution_count": 53,
   "id": "d96bd0fc",
   "metadata": {},
   "outputs": [
    {
     "data": {
      "text/plain": [
       "array([ 0,  1,  2,  3,  4,  5,  6,  7,  8,  9, 10])"
      ]
     },
     "execution_count": 53,
     "metadata": {},
     "output_type": "execute_result"
    }
   ],
   "source": [
    "arr"
   ]
  },
  {
   "cell_type": "code",
   "execution_count": 54,
   "id": "693ee170",
   "metadata": {},
   "outputs": [
    {
     "data": {
      "text/plain": [
       "array([2, 3, 4, 5])"
      ]
     },
     "execution_count": 54,
     "metadata": {},
     "output_type": "execute_result"
    }
   ],
   "source": [
    "arr[2:6]"
   ]
  },
  {
   "cell_type": "markdown",
   "id": "71672540",
   "metadata": {},
   "source": [
    "## Broadcasting"
   ]
  },
  {
   "cell_type": "code",
   "execution_count": 55,
   "id": "ebc0b684",
   "metadata": {},
   "outputs": [],
   "source": [
    "arr[2:6] = 100"
   ]
  },
  {
   "cell_type": "code",
   "execution_count": 56,
   "id": "5959a987",
   "metadata": {},
   "outputs": [
    {
     "data": {
      "text/plain": [
       "array([  0,   1, 100, 100, 100, 100,   6,   7,   8,   9,  10])"
      ]
     },
     "execution_count": 56,
     "metadata": {},
     "output_type": "execute_result"
    }
   ],
   "source": [
    "arr"
   ]
  },
  {
   "cell_type": "code",
   "execution_count": 57,
   "id": "ac510dfc",
   "metadata": {},
   "outputs": [
    {
     "data": {
      "text/plain": [
       "array([  0,   2, 200, 200, 200, 200,  12,  14,  16,  18,  20])"
      ]
     },
     "execution_count": 57,
     "metadata": {},
     "output_type": "execute_result"
    }
   ],
   "source": [
    "arr + arr"
   ]
  },
  {
   "cell_type": "code",
   "execution_count": 58,
   "id": "d5036c4b",
   "metadata": {},
   "outputs": [
    {
     "data": {
      "text/plain": [
       "array([0, 0, 0, 0, 0, 0, 0, 0, 0, 0, 0])"
      ]
     },
     "execution_count": 58,
     "metadata": {},
     "output_type": "execute_result"
    }
   ],
   "source": [
    "arr - arr"
   ]
  },
  {
   "cell_type": "code",
   "execution_count": 59,
   "id": "e02de994",
   "metadata": {},
   "outputs": [
    {
     "data": {
      "text/plain": [
       "array([    0,     1, 10000, 10000, 10000, 10000,    36,    49,    64,\n",
       "          81,   100])"
      ]
     },
     "execution_count": 59,
     "metadata": {},
     "output_type": "execute_result"
    }
   ],
   "source": [
    "arr * arr"
   ]
  },
  {
   "cell_type": "code",
   "execution_count": 60,
   "id": "a58d19f1",
   "metadata": {},
   "outputs": [
    {
     "name": "stderr",
     "output_type": "stream",
     "text": [
      "C:\\Users\\Amir\\AppData\\Local\\Temp\\ipykernel_14268\\1528351372.py:1: RuntimeWarning: divide by zero encountered in divide\n",
      "  1 / arr\n"
     ]
    },
    {
     "data": {
      "text/plain": [
       "array([       inf, 1.        , 0.01      , 0.01      , 0.01      ,\n",
       "       0.01      , 0.16666667, 0.14285714, 0.125     , 0.11111111,\n",
       "       0.1       ])"
      ]
     },
     "execution_count": 60,
     "metadata": {},
     "output_type": "execute_result"
    }
   ],
   "source": [
    "1 / arr"
   ]
  },
  {
   "cell_type": "code",
   "execution_count": 65,
   "id": "24b3aea1",
   "metadata": {
    "scrolled": true
   },
   "outputs": [
    {
     "data": {
      "text/plain": [
       "array([[ 5, 10, 15],\n",
       "       [20, 25, 30],\n",
       "       [35, 40, 45]])"
      ]
     },
     "execution_count": 65,
     "metadata": {},
     "output_type": "execute_result"
    }
   ],
   "source": [
    "d2_arr = np.array(([5, 10, 15],\n",
    "                 [20, 25, 30],\n",
    "                 [35, 40, 45]))\n",
    "\n",
    "d2_arr"
   ]
  },
  {
   "cell_type": "code",
   "execution_count": 69,
   "id": "b32abc88",
   "metadata": {},
   "outputs": [
    {
     "data": {
      "text/plain": [
       "40"
      ]
     },
     "execution_count": 69,
     "metadata": {},
     "output_type": "execute_result"
    }
   ],
   "source": [
    "d2_arr[2, 1]"
   ]
  },
  {
   "cell_type": "code",
   "execution_count": 66,
   "id": "bf4c507d",
   "metadata": {},
   "outputs": [
    {
     "data": {
      "text/plain": [
       "array([20, 25, 30])"
      ]
     },
     "execution_count": 66,
     "metadata": {},
     "output_type": "execute_result"
    }
   ],
   "source": [
    "d2_arr[1]"
   ]
  },
  {
   "cell_type": "code",
   "execution_count": 67,
   "id": "49843490",
   "metadata": {},
   "outputs": [
    {
     "data": {
      "text/plain": [
       "10"
      ]
     },
     "execution_count": 67,
     "metadata": {},
     "output_type": "execute_result"
    }
   ],
   "source": [
    "d2_arr[0][1]"
   ]
  },
  {
   "cell_type": "code",
   "execution_count": 68,
   "id": "4bce4f23",
   "metadata": {},
   "outputs": [
    {
     "data": {
      "text/plain": [
       "10"
      ]
     },
     "execution_count": 68,
     "metadata": {},
     "output_type": "execute_result"
    }
   ],
   "source": [
    "d2_arr[0, 1]"
   ]
  },
  {
   "cell_type": "code",
   "execution_count": 70,
   "id": "4313688d",
   "metadata": {},
   "outputs": [
    {
     "data": {
      "text/plain": [
       "array([[ 5, 10, 15],\n",
       "       [20, 25, 30],\n",
       "       [35, 40, 45]])"
      ]
     },
     "execution_count": 70,
     "metadata": {},
     "output_type": "execute_result"
    }
   ],
   "source": [
    "d2_arr"
   ]
  },
  {
   "cell_type": "code",
   "execution_count": 71,
   "id": "85356f4f",
   "metadata": {},
   "outputs": [
    {
     "data": {
      "text/plain": [
       "array([[25, 30],\n",
       "       [40, 45]])"
      ]
     },
     "execution_count": 71,
     "metadata": {},
     "output_type": "execute_result"
    }
   ],
   "source": [
    "d2_arr[1:, 1:]"
   ]
  },
  {
   "cell_type": "code",
   "execution_count": 72,
   "id": "56d05d3c",
   "metadata": {},
   "outputs": [
    {
     "data": {
      "text/plain": [
       "array([[20, 25],\n",
       "       [35, 40]])"
      ]
     },
     "execution_count": 72,
     "metadata": {},
     "output_type": "execute_result"
    }
   ],
   "source": [
    "d2_arr[1:, :2]"
   ]
  },
  {
   "cell_type": "code",
   "execution_count": 73,
   "id": "bdd0845e",
   "metadata": {},
   "outputs": [],
   "source": [
    "arr3 = np.arange(1, 11)"
   ]
  },
  {
   "cell_type": "code",
   "execution_count": 74,
   "id": "14840149",
   "metadata": {},
   "outputs": [
    {
     "data": {
      "text/plain": [
       "array([ 1,  2,  3,  4,  5,  6,  7,  8,  9, 10])"
      ]
     },
     "execution_count": 74,
     "metadata": {},
     "output_type": "execute_result"
    }
   ],
   "source": [
    "arr3"
   ]
  },
  {
   "cell_type": "markdown",
   "id": "858dc0a3",
   "metadata": {},
   "source": [
    "## Conditional Selection"
   ]
  },
  {
   "cell_type": "code",
   "execution_count": 76,
   "id": "75328979",
   "metadata": {},
   "outputs": [
    {
     "data": {
      "text/plain": [
       "array([ 5,  6,  7,  8,  9, 10])"
      ]
     },
     "execution_count": 76,
     "metadata": {},
     "output_type": "execute_result"
    }
   ],
   "source": [
    "arr3[arr3 > 4]"
   ]
  },
  {
   "cell_type": "code",
   "execution_count": 77,
   "id": "c5723931",
   "metadata": {},
   "outputs": [
    {
     "data": {
      "text/plain": [
       "array([1, 2])"
      ]
     },
     "execution_count": 77,
     "metadata": {},
     "output_type": "execute_result"
    }
   ],
   "source": [
    "cond = arr3 < 3\n",
    "arr3[cond]"
   ]
  },
  {
   "cell_type": "code",
   "execution_count": 78,
   "id": "81c4e9ae",
   "metadata": {},
   "outputs": [
    {
     "data": {
      "text/plain": [
       "array([ True,  True, False, False, False, False, False, False, False,\n",
       "       False])"
      ]
     },
     "execution_count": 78,
     "metadata": {},
     "output_type": "execute_result"
    }
   ],
   "source": [
    "cond"
   ]
  },
  {
   "cell_type": "markdown",
   "id": "fe9ec3df",
   "metadata": {},
   "source": [
    "### NumPy Operations"
   ]
  },
  {
   "cell_type": "code",
   "execution_count": 88,
   "id": "6ddf6d40",
   "metadata": {},
   "outputs": [],
   "source": [
    "np.random.seed(42)\n",
    "mat = np.random.randint(1, 20, size=(10, 7, 3))"
   ]
  },
  {
   "cell_type": "code",
   "execution_count": 89,
   "id": "9040e161",
   "metadata": {},
   "outputs": [
    {
     "data": {
      "text/plain": [
       "array([[[ 7, 15, 11],\n",
       "        [ 8,  7, 19],\n",
       "        [11, 11,  4],\n",
       "        [ 8,  3,  2],\n",
       "        [12,  6,  2],\n",
       "        [ 1, 12, 12],\n",
       "        [17, 10, 16]],\n",
       "\n",
       "       [[15, 15, 19],\n",
       "        [12,  3,  5],\n",
       "        [19,  7,  9],\n",
       "        [ 7, 18,  4],\n",
       "        [14, 18,  9],\n",
       "        [ 2, 15,  7],\n",
       "        [12,  8, 15]],\n",
       "\n",
       "       [[ 3, 14, 17],\n",
       "        [ 4, 18,  8],\n",
       "        [ 4,  2,  6],\n",
       "        [10,  4, 18],\n",
       "        [12,  2, 10],\n",
       "        [ 4, 14, 16],\n",
       "        [15,  8, 14]],\n",
       "\n",
       "       [[ 8, 16, 13],\n",
       "        [18, 15, 13],\n",
       "        [ 9, 15, 13],\n",
       "        [ 1,  7,  9],\n",
       "        [ 1, 12,  8],\n",
       "        [11, 19, 17],\n",
       "        [ 8,  3,  3]],\n",
       "\n",
       "       [[ 1,  5, 10],\n",
       "        [ 7,  9,  7],\n",
       "        [ 9,  8, 12],\n",
       "        [ 2,  1, 16],\n",
       "        [ 5,  3, 12],\n",
       "        [ 8,  3,  1],\n",
       "        [ 3,  5, 15]],\n",
       "\n",
       "       [[14,  3,  1],\n",
       "        [ 5, 14,  7],\n",
       "        [ 9, 15, 15],\n",
       "        [10, 13, 19],\n",
       "        [ 7, 17,  4],\n",
       "        [ 5,  7, 13],\n",
       "        [15, 11,  4]],\n",
       "\n",
       "       [[13,  7, 19],\n",
       "        [ 2, 10, 13],\n",
       "        [ 6, 12, 12],\n",
       "        [11,  7,  1],\n",
       "        [ 1, 13,  9],\n",
       "        [ 3,  7,  6],\n",
       "        [ 8,  9,  5]],\n",
       "\n",
       "       [[ 1, 19, 10],\n",
       "        [12, 15,  9],\n",
       "        [17, 17, 12],\n",
       "        [ 7,  2,  3],\n",
       "        [17,  5, 17],\n",
       "        [17, 17,  2],\n",
       "        [ 2,  5,  1]],\n",
       "\n",
       "       [[ 1, 19,  2],\n",
       "        [12,  6,  4],\n",
       "        [11, 17,  6],\n",
       "        [ 5,  2,  6],\n",
       "        [11, 16, 16],\n",
       "        [ 1,  9,  6],\n",
       "        [16,  3,  4]],\n",
       "\n",
       "       [[19,  3, 19],\n",
       "        [ 7,  9,  1],\n",
       "        [ 8,  7, 18],\n",
       "        [ 8,  1, 11],\n",
       "        [18, 10,  3],\n",
       "        [ 7, 16, 16],\n",
       "        [17,  2,  1]]])"
      ]
     },
     "execution_count": 89,
     "metadata": {},
     "output_type": "execute_result"
    }
   ],
   "source": [
    "mat"
   ]
  },
  {
   "cell_type": "markdown",
   "id": "200b698b",
   "metadata": {},
   "source": [
    "## Universal Array Functions"
   ]
  },
  {
   "cell_type": "code",
   "execution_count": 90,
   "id": "95095c73",
   "metadata": {},
   "outputs": [
    {
     "data": {
      "text/plain": [
       "array([[[ 49, 225, 121],\n",
       "        [ 64,  49, 361],\n",
       "        [121, 121,  16],\n",
       "        [ 64,   9,   4],\n",
       "        [144,  36,   4],\n",
       "        [  1, 144, 144],\n",
       "        [289, 100, 256]],\n",
       "\n",
       "       [[225, 225, 361],\n",
       "        [144,   9,  25],\n",
       "        [361,  49,  81],\n",
       "        [ 49, 324,  16],\n",
       "        [196, 324,  81],\n",
       "        [  4, 225,  49],\n",
       "        [144,  64, 225]],\n",
       "\n",
       "       [[  9, 196, 289],\n",
       "        [ 16, 324,  64],\n",
       "        [ 16,   4,  36],\n",
       "        [100,  16, 324],\n",
       "        [144,   4, 100],\n",
       "        [ 16, 196, 256],\n",
       "        [225,  64, 196]],\n",
       "\n",
       "       [[ 64, 256, 169],\n",
       "        [324, 225, 169],\n",
       "        [ 81, 225, 169],\n",
       "        [  1,  49,  81],\n",
       "        [  1, 144,  64],\n",
       "        [121, 361, 289],\n",
       "        [ 64,   9,   9]],\n",
       "\n",
       "       [[  1,  25, 100],\n",
       "        [ 49,  81,  49],\n",
       "        [ 81,  64, 144],\n",
       "        [  4,   1, 256],\n",
       "        [ 25,   9, 144],\n",
       "        [ 64,   9,   1],\n",
       "        [  9,  25, 225]],\n",
       "\n",
       "       [[196,   9,   1],\n",
       "        [ 25, 196,  49],\n",
       "        [ 81, 225, 225],\n",
       "        [100, 169, 361],\n",
       "        [ 49, 289,  16],\n",
       "        [ 25,  49, 169],\n",
       "        [225, 121,  16]],\n",
       "\n",
       "       [[169,  49, 361],\n",
       "        [  4, 100, 169],\n",
       "        [ 36, 144, 144],\n",
       "        [121,  49,   1],\n",
       "        [  1, 169,  81],\n",
       "        [  9,  49,  36],\n",
       "        [ 64,  81,  25]],\n",
       "\n",
       "       [[  1, 361, 100],\n",
       "        [144, 225,  81],\n",
       "        [289, 289, 144],\n",
       "        [ 49,   4,   9],\n",
       "        [289,  25, 289],\n",
       "        [289, 289,   4],\n",
       "        [  4,  25,   1]],\n",
       "\n",
       "       [[  1, 361,   4],\n",
       "        [144,  36,  16],\n",
       "        [121, 289,  36],\n",
       "        [ 25,   4,  36],\n",
       "        [121, 256, 256],\n",
       "        [  1,  81,  36],\n",
       "        [256,   9,  16]],\n",
       "\n",
       "       [[361,   9, 361],\n",
       "        [ 49,  81,   1],\n",
       "        [ 64,  49, 324],\n",
       "        [ 64,   1, 121],\n",
       "        [324, 100,   9],\n",
       "        [ 49, 256, 256],\n",
       "        [289,   4,   1]]])"
      ]
     },
     "execution_count": 90,
     "metadata": {},
     "output_type": "execute_result"
    }
   ],
   "source": [
    "np.square(mat)"
   ]
  },
  {
   "cell_type": "code",
   "execution_count": 91,
   "id": "1a2b7fd0",
   "metadata": {},
   "outputs": [],
   "source": [
    "mat_sqrt = np.sqrt(mat)"
   ]
  },
  {
   "cell_type": "code",
   "execution_count": 92,
   "id": "70dc93d1",
   "metadata": {},
   "outputs": [
    {
     "data": {
      "text/plain": [
       "(10, 7, 3)"
      ]
     },
     "execution_count": 92,
     "metadata": {},
     "output_type": "execute_result"
    }
   ],
   "source": [
    "mat_sqrt.shape"
   ]
  },
  {
   "cell_type": "code",
   "execution_count": 93,
   "id": "393fcbf7",
   "metadata": {},
   "outputs": [],
   "source": [
    "n1 = mat_sqrt[:, :, 0]"
   ]
  },
  {
   "cell_type": "code",
   "execution_count": 95,
   "id": "f1052125",
   "metadata": {},
   "outputs": [
    {
     "data": {
      "text/plain": [
       "(10, 7)"
      ]
     },
     "execution_count": 95,
     "metadata": {},
     "output_type": "execute_result"
    }
   ],
   "source": [
    "n1.shape"
   ]
  },
  {
   "cell_type": "code",
   "execution_count": 96,
   "id": "42cbeeac",
   "metadata": {},
   "outputs": [],
   "source": [
    "n2 = mat_sqrt[:, :, 1]"
   ]
  },
  {
   "cell_type": "code",
   "execution_count": 97,
   "id": "7eb1f349",
   "metadata": {},
   "outputs": [
    {
     "data": {
      "text/plain": [
       "(10, 7)"
      ]
     },
     "execution_count": 97,
     "metadata": {},
     "output_type": "execute_result"
    }
   ],
   "source": [
    "n2.shape"
   ]
  },
  {
   "cell_type": "code",
   "execution_count": 98,
   "id": "edfb182c",
   "metadata": {},
   "outputs": [],
   "source": [
    "n3 = mat_sqrt[:, :, 2]"
   ]
  },
  {
   "cell_type": "code",
   "execution_count": 99,
   "id": "3632d4a6",
   "metadata": {},
   "outputs": [
    {
     "data": {
      "text/plain": [
       "(10, 7)"
      ]
     },
     "execution_count": 99,
     "metadata": {},
     "output_type": "execute_result"
    }
   ],
   "source": [
    "n3.shape"
   ]
  },
  {
   "cell_type": "code",
   "execution_count": 100,
   "id": "993f1d04",
   "metadata": {},
   "outputs": [
    {
     "data": {
      "text/plain": [
       "array([[[ 0.6569866 ,  0.65028784, -0.99999021],\n",
       "        [ 0.98935825,  0.6569866 ,  0.14987721],\n",
       "        [-0.99999021, -0.99999021, -0.7568025 ],\n",
       "        [ 0.98935825,  0.14112001,  0.90929743],\n",
       "        [-0.53657292, -0.2794155 ,  0.90929743],\n",
       "        [ 0.84147098, -0.53657292, -0.53657292],\n",
       "        [-0.96139749, -0.54402111, -0.28790332]],\n",
       "\n",
       "       [[ 0.65028784,  0.65028784,  0.14987721],\n",
       "        [-0.53657292,  0.14112001, -0.95892427],\n",
       "        [ 0.14987721,  0.6569866 ,  0.41211849],\n",
       "        [ 0.6569866 , -0.75098725, -0.7568025 ],\n",
       "        [ 0.99060736, -0.75098725,  0.41211849],\n",
       "        [ 0.90929743,  0.65028784,  0.6569866 ],\n",
       "        [-0.53657292,  0.98935825,  0.65028784]],\n",
       "\n",
       "       [[ 0.14112001,  0.99060736, -0.96139749],\n",
       "        [-0.7568025 , -0.75098725,  0.98935825],\n",
       "        [-0.7568025 ,  0.90929743, -0.2794155 ],\n",
       "        [-0.54402111, -0.7568025 , -0.75098725],\n",
       "        [-0.53657292,  0.90929743, -0.54402111],\n",
       "        [-0.7568025 ,  0.99060736, -0.28790332],\n",
       "        [ 0.65028784,  0.98935825,  0.99060736]],\n",
       "\n",
       "       [[ 0.98935825, -0.28790332,  0.42016704],\n",
       "        [-0.75098725,  0.65028784,  0.42016704],\n",
       "        [ 0.41211849,  0.65028784,  0.42016704],\n",
       "        [ 0.84147098,  0.6569866 ,  0.41211849],\n",
       "        [ 0.84147098, -0.53657292,  0.98935825],\n",
       "        [-0.99999021,  0.14987721, -0.96139749],\n",
       "        [ 0.98935825,  0.14112001,  0.14112001]],\n",
       "\n",
       "       [[ 0.84147098, -0.95892427, -0.54402111],\n",
       "        [ 0.6569866 ,  0.41211849,  0.6569866 ],\n",
       "        [ 0.41211849,  0.98935825, -0.53657292],\n",
       "        [ 0.90929743,  0.84147098, -0.28790332],\n",
       "        [-0.95892427,  0.14112001, -0.53657292],\n",
       "        [ 0.98935825,  0.14112001,  0.84147098],\n",
       "        [ 0.14112001, -0.95892427,  0.65028784]],\n",
       "\n",
       "       [[ 0.99060736,  0.14112001,  0.84147098],\n",
       "        [-0.95892427,  0.99060736,  0.6569866 ],\n",
       "        [ 0.41211849,  0.65028784,  0.65028784],\n",
       "        [-0.54402111,  0.42016704,  0.14987721],\n",
       "        [ 0.6569866 , -0.96139749, -0.7568025 ],\n",
       "        [-0.95892427,  0.6569866 ,  0.42016704],\n",
       "        [ 0.65028784, -0.99999021, -0.7568025 ]],\n",
       "\n",
       "       [[ 0.42016704,  0.6569866 ,  0.14987721],\n",
       "        [ 0.90929743, -0.54402111,  0.42016704],\n",
       "        [-0.2794155 , -0.53657292, -0.53657292],\n",
       "        [-0.99999021,  0.6569866 ,  0.84147098],\n",
       "        [ 0.84147098,  0.42016704,  0.41211849],\n",
       "        [ 0.14112001,  0.6569866 , -0.2794155 ],\n",
       "        [ 0.98935825,  0.41211849, -0.95892427]],\n",
       "\n",
       "       [[ 0.84147098,  0.14987721, -0.54402111],\n",
       "        [-0.53657292,  0.65028784,  0.41211849],\n",
       "        [-0.96139749, -0.96139749, -0.53657292],\n",
       "        [ 0.6569866 ,  0.90929743,  0.14112001],\n",
       "        [-0.96139749, -0.95892427, -0.96139749],\n",
       "        [-0.96139749, -0.96139749,  0.90929743],\n",
       "        [ 0.90929743, -0.95892427,  0.84147098]],\n",
       "\n",
       "       [[ 0.84147098,  0.14987721,  0.90929743],\n",
       "        [-0.53657292, -0.2794155 , -0.7568025 ],\n",
       "        [-0.99999021, -0.96139749, -0.2794155 ],\n",
       "        [-0.95892427,  0.90929743, -0.2794155 ],\n",
       "        [-0.99999021, -0.28790332, -0.28790332],\n",
       "        [ 0.84147098,  0.41211849, -0.2794155 ],\n",
       "        [-0.28790332,  0.14112001, -0.7568025 ]],\n",
       "\n",
       "       [[ 0.14987721,  0.14112001,  0.14987721],\n",
       "        [ 0.6569866 ,  0.41211849,  0.84147098],\n",
       "        [ 0.98935825,  0.6569866 , -0.75098725],\n",
       "        [ 0.98935825,  0.84147098, -0.99999021],\n",
       "        [-0.75098725, -0.54402111,  0.14112001],\n",
       "        [ 0.6569866 , -0.28790332, -0.28790332],\n",
       "        [-0.96139749,  0.90929743,  0.84147098]]])"
      ]
     },
     "execution_count": 100,
     "metadata": {},
     "output_type": "execute_result"
    }
   ],
   "source": [
    "np.sin(mat)"
   ]
  },
  {
   "cell_type": "code",
   "execution_count": 101,
   "id": "69ffbe05",
   "metadata": {},
   "outputs": [
    {
     "data": {
      "text/plain": [
       "dtype('float64')"
      ]
     },
     "execution_count": 101,
     "metadata": {},
     "output_type": "execute_result"
    }
   ],
   "source": [
    "mat_sqrt.dtype"
   ]
  },
  {
   "cell_type": "code",
   "execution_count": 102,
   "id": "a6af80a8",
   "metadata": {},
   "outputs": [
    {
     "data": {
      "text/plain": [
       "array([[2.64575131, 2.82842712, 3.31662479, 2.82842712, 3.46410162,\n",
       "        1.        , 4.12310563],\n",
       "       [3.87298335, 3.46410162, 4.35889894, 2.64575131, 3.74165739,\n",
       "        1.41421356, 3.46410162],\n",
       "       [1.73205081, 2.        , 2.        , 3.16227766, 3.46410162,\n",
       "        2.        , 3.87298335],\n",
       "       [2.82842712, 4.24264069, 3.        , 1.        , 1.        ,\n",
       "        3.31662479, 2.82842712],\n",
       "       [1.        , 2.64575131, 3.        , 1.41421356, 2.23606798,\n",
       "        2.82842712, 1.73205081],\n",
       "       [3.74165739, 2.23606798, 3.        , 3.16227766, 2.64575131,\n",
       "        2.23606798, 3.87298335],\n",
       "       [3.60555128, 1.41421356, 2.44948974, 3.31662479, 1.        ,\n",
       "        1.73205081, 2.82842712],\n",
       "       [1.        , 3.46410162, 4.12310563, 2.64575131, 4.12310563,\n",
       "        4.12310563, 1.41421356],\n",
       "       [1.        , 3.46410162, 3.31662479, 2.23606798, 3.31662479,\n",
       "        1.        , 4.        ],\n",
       "       [4.35889894, 2.64575131, 2.82842712, 2.82842712, 4.24264069,\n",
       "        2.64575131, 4.12310563]])"
      ]
     },
     "execution_count": 102,
     "metadata": {},
     "output_type": "execute_result"
    }
   ],
   "source": [
    "n1"
   ]
  },
  {
   "cell_type": "code",
   "execution_count": 104,
   "id": "ed4bf6aa",
   "metadata": {},
   "outputs": [
    {
     "data": {
      "text/plain": [
       "(10, 7)"
      ]
     },
     "execution_count": 104,
     "metadata": {},
     "output_type": "execute_result"
    }
   ],
   "source": [
    "n1.shape"
   ]
  },
  {
   "cell_type": "code",
   "execution_count": 109,
   "id": "4d9b843d",
   "metadata": {},
   "outputs": [],
   "source": [
    "np.random.seed(111)\n",
    "M = np.random.randint(12, size=(3, 4))"
   ]
  },
  {
   "cell_type": "code",
   "execution_count": 110,
   "id": "97b474f4",
   "metadata": {},
   "outputs": [
    {
     "data": {
      "text/plain": [
       "array([[4, 4, 4, 6],\n",
       "       [3, 9, 2, 6],\n",
       "       [2, 8, 7, 9]])"
      ]
     },
     "execution_count": 110,
     "metadata": {},
     "output_type": "execute_result"
    }
   ],
   "source": [
    "M"
   ]
  },
  {
   "cell_type": "code",
   "execution_count": 111,
   "id": "89fdbcf4",
   "metadata": {},
   "outputs": [
    {
     "data": {
      "text/plain": [
       "(3, 4)"
      ]
     },
     "execution_count": 111,
     "metadata": {},
     "output_type": "execute_result"
    }
   ],
   "source": [
    "M.shape"
   ]
  },
  {
   "cell_type": "code",
   "execution_count": 113,
   "id": "32ba30d0",
   "metadata": {},
   "outputs": [
    {
     "data": {
      "text/plain": [
       "array([ 9, 21, 13, 21])"
      ]
     },
     "execution_count": 113,
     "metadata": {},
     "output_type": "execute_result"
    }
   ],
   "source": [
    "M.sum(axis=0)"
   ]
  },
  {
   "cell_type": "code",
   "execution_count": 114,
   "id": "bf3f6b81",
   "metadata": {},
   "outputs": [
    {
     "data": {
      "text/plain": [
       "array([18, 20, 26])"
      ]
     },
     "execution_count": 114,
     "metadata": {},
     "output_type": "execute_result"
    }
   ],
   "source": [
    "M.sum(axis=1)"
   ]
  },
  {
   "cell_type": "code",
   "execution_count": null,
   "id": "46882580",
   "metadata": {},
   "outputs": [],
   "source": []
  }
 ],
 "metadata": {
  "kernelspec": {
   "display_name": "Python 3 (ipykernel)",
   "language": "python",
   "name": "python3"
  },
  "language_info": {
   "codemirror_mode": {
    "name": "ipython",
    "version": 3
   },
   "file_extension": ".py",
   "mimetype": "text/x-python",
   "name": "python",
   "nbconvert_exporter": "python",
   "pygments_lexer": "ipython3",
   "version": "3.10.8"
  }
 },
 "nbformat": 4,
 "nbformat_minor": 5
}
