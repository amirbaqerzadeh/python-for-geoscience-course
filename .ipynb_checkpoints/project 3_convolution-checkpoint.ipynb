{
 "cells": [
  {
   "cell_type": "markdown",
   "id": "f4798446",
   "metadata": {},
   "source": [
    "# Project 2: Convolution of Two Signals\n",
    "\n",
    "## Introduction to Convolution\n",
    "\n",
    "Convolution is a mathematical operation used to express the amount of overlap of one function as it is shifted over another function. In the context of signal processing, convolution helps determine the output of a linear time-invariant (LTI) system when given an input signal and the system's impulse response.\n",
    "\n",
    "### Mathematical Definition\n",
    "\n",
    "The convolution of two functions, $f$ and $g$, is defined as:\n",
    "\n",
    "$$\n",
    "(f \\ast g)(t) = \\int_{-\\infty}^{\\infty} f(\\tau) g(t - \\tau) d\\tau\n",
    "$$\n",
    "\n",
    "In discrete systems, the convolution sum is:\n",
    "\n",
    "$$\n",
    "(f \\ast g)[n] = \\sum_{m=-\\infty}^{\\infty} f[m] g[n - m]\n",
    "$$\n",
    "\n",
    "## Implementing Convolution in Python\n",
    "\n",
    "We will use the `numpy` library to perform convolution on discrete signals. This example will involve two sample signals to illustrate the process.\n"
   ]
  },
  {
   "cell_type": "markdown",
   "id": "e105bb5f",
   "metadata": {},
   "source": [
    "# Part 1: Manual Convolution Calculation\n",
    "\n",
    "## Step 1: Understanding Convolution\n",
    "\n",
    "### Definition of Convolution\n",
    "\n",
    "Convolution is a fundamental mathematical operation in signal processing, characterized by its ability to express the relationship between the input and output of a Linear Time-Invariant (LTI) system. It is a technique for deriving a third signal that represents how the shape of one signal is altered by another. This operation is central to systems analysis, signal processing, and applied mathematics.\n",
    "\n",
    "### How Convolution Works\n",
    "\n",
    "In signal processing, convolution is used to determine the output signal (\\( y(t) \\)) of an LTI system when an input signal (\\( x(t) \\)) and the system's impulse response (\\( h(t) \\)) are known. The convolution of \\( x(t) \\) and \\( h(t) \\) is denoted as \\( x(t) * h(t) \\) and is defined by the integral:\n",
    "\n",
    "$$\n",
    "y(t) = (x * h)(t) = \\int_{-\\infty}^{\\infty} x(\\tau) h(t - \\tau) \\, d\\tau\n",
    "$$\n",
    "\n",
    "For discrete systems, the convolution sum is:\n",
    "\n",
    "$$\n",
    "y[n] = (x * h)[n] = \\sum_{m=-\\infty}^{\\infty} x[m] h[n - m]\n",
    "$$\n",
    "\n",
    "### Visual Interpretation\n",
    "\n",
    "- **Graphical Interpretation**: Imagine sliding one signal across another, multiplying overlapping elements and summing the results to construct the new signal.\n",
    "- **Physical Interpretation**: In physical systems, if \\( h(t) \\) represents the response of a system to an instantaneous unit input, then \\( y(t) \\) describes how the system reacts over time to the input signal \\( x(t) \\).\n",
    "\n",
    "### Importance in Engineering\n",
    "\n",
    "Understanding and implementing convolution is critical in fields such as electrical engineering, computer science, and physics. It aids in designing and analyzing systems that include filters, audio processors, or any system where signals interact dynamically.\n",
    "\n",
    "## Next Steps\n",
    "\n",
    "In the next step, we will manually compute the convolution of two discrete signals to see how the theoretical concepts apply in practice.\n"
   ]
  },
  {
   "cell_type": "code",
   "execution_count": 1,
   "id": "da0c763d",
   "metadata": {},
   "outputs": [],
   "source": [
    "import numpy as np\n",
    "import timeit"
   ]
  },
  {
   "cell_type": "code",
   "execution_count": 2,
   "id": "206adbe8",
   "metadata": {},
   "outputs": [],
   "source": [
    "# Step 1: Function to manually calculate convolution\n",
    "def manual_convolution(signal1, signal2):\n",
    "    # Ensure the first signal is the longer one\n",
    "    if len(signal1) < len(signal2):\n",
    "        signal1, signal2 = signal2, signal1\n",
    "    # Pad signal1 with zeros on both sides\n",
    "    pad_signal1 = np.pad(signal1, (len(signal2)-1, len(signal2)-1), mode='constant', constant_values=(0, 0))\n",
    "    result = []\n",
    "    # Perform the convolution\n",
    "    for i in range(len(signal2) + len(signal1) - 1):\n",
    "        result.append(np.dot(pad_signal1[i:i+len(signal2)], signal2[::-1]))\n",
    "    return np.array(result)\n",
    "\n"
   ]
  },
  {
   "cell_type": "markdown",
   "id": "799f4669",
   "metadata": {},
   "source": [
    "# Part 2: Using NumPy for Convolution\n",
    "\n",
    "## Step 1: Calculate Convolution with NumPy\n",
    "\n",
    "Now that we've explored the concept of convolution manually, we'll use Python's NumPy library to streamline the process. NumPy provides a highly efficient function, `convolve`, which simplifies the calculation of convolutions, especially for larger datasets or more complex signals.\n",
    "\n",
    "### NumPy's Convolve Function\n",
    "\n",
    "The `np.convolve` function computes the convolution of two sequences or arrays. It is an essential tool in digital signal processing for simulating the output of a linear time-invariant system.\n",
    "\n"
   ]
  },
  {
   "cell_type": "code",
   "execution_count": 3,
   "id": "ae86645b",
   "metadata": {},
   "outputs": [],
   "source": [
    "# Step 1: Define Signals\n",
    "# Define two signals\n",
    "signal1 = np.array([1, 2, 3])\n",
    "signal2 = np.array([0, 1, 0.5])\n",
    "\n",
    "'''\n",
    "you can use np.random.randn(1000) for create large signals to compare\n",
    "more efficiency\n",
    "'''\n",
    "\n",
    "# Step 2: Calculate convolution using NumPy\n",
    "\n",
    "start_time_numpy = timeit.default_timer()\n",
    "conv_numpy = np.convolve(signal1, signal2, mode='full')\n",
    "time_numpy = timeit.default_timer() - start_time_numpy\n",
    "\n",
    "# Calculate convolution using Our function (above)\n",
    "start_time_manual = timeit.default_timer()\n",
    "conv_manual = manual_convolution(signal1, signal2)\n",
    "time_manual = timeit.default_timer() - start_time_manual\n",
    "\n"
   ]
  },
  {
   "cell_type": "markdown",
   "id": "2b5413c5",
   "metadata": {},
   "source": [
    "# Part 3: Performance Comparison\n",
    "\n",
    "## Step 1: Compare Execution Times"
   ]
  },
  {
   "cell_type": "code",
   "execution_count": 4,
   "id": "1650dda1",
   "metadata": {},
   "outputs": [
    {
     "name": "stdout",
     "output_type": "stream",
     "text": [
      "Manual Convolution: [0.  1.  2.5 4.  1.5] (Time: 0.00039 seconds)\n",
      "NumPy Convolution: [0.  1.  2.5 4.  1.5] (Time: 0.00031 seconds)\n",
      "Manual/Numpy Time Ratio: 1.24020\n"
     ]
    }
   ],
   "source": [
    "\n",
    "\n",
    "# Print results and compare speeds\n",
    "print(f\"Manual Convolution: {conv_manual} (Time: {time_manual:.5f} seconds)\")\n",
    "print(f\"NumPy Convolution: {conv_numpy} (Time: {time_numpy:.5f} seconds)\")\n",
    "print(f\"Manual/Numpy Time Ratio: {time_manual/time_numpy:.5f}\")\n"
   ]
  },
  {
   "cell_type": "code",
   "execution_count": null,
   "id": "dba3798d",
   "metadata": {},
   "outputs": [],
   "source": []
  }
 ],
 "metadata": {
  "kernelspec": {
   "display_name": "Python 3 (ipykernel)",
   "language": "python",
   "name": "python3"
  },
  "language_info": {
   "codemirror_mode": {
    "name": "ipython",
    "version": 3
   },
   "file_extension": ".py",
   "mimetype": "text/x-python",
   "name": "python",
   "nbconvert_exporter": "python",
   "pygments_lexer": "ipython3",
   "version": "3.8.16"
  }
 },
 "nbformat": 4,
 "nbformat_minor": 5
}
