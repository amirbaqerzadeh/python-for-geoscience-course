{
 "cells": [
  {
   "cell_type": "markdown",
   "id": "4be61366",
   "metadata": {},
   "source": [
    "## Project 3: Convolution of Two Signals"
   ]
  },
  {
   "cell_type": "markdown",
   "id": "e35ce7b6",
   "metadata": {},
   "source": [
    "# Part 1: Manual Convolution Calculation\n",
    "\n",
    "## Step 1: Understanding Convolution\n",
    "\n",
    "### Definition of Convolution\n",
    "\n",
    "Convolution is a fundamental mathematical operation in signal processing, characterized by its ability to express the relationship between the input and output of a Linear Time-Invariant (LTI) system. It is a technique for deriving a third signal that represents how the shape of one signal is altered by another. This operation is central to systems analysis, signal processing, and applied mathematics.\n",
    "\n",
    "### How Convolution Works\n",
    "\n",
    "In signal processing, convolution is used to determine the output signal (\\( y(t) \\)) of an LTI system when an input signal (\\( x(t) \\)) and the system's impulse response (\\( h(t) \\)) are known. The convolution of \\( x(t) \\) and \\( h(t) \\) is denoted as \\( x(t) * h(t) \\) and is defined by the integral:\n",
    "\n",
    "$$\n",
    "y(t) = (x * h)(t) = \\int_{-\\infty}^{\\infty} x(\\tau) h(t - \\tau) \\, d\\tau\n",
    "$$\n",
    "\n",
    "For discrete systems, the convolution sum is:\n",
    "\n",
    "$$\n",
    "y[n] = (x * h)[n] = \\sum_{m=-\\infty}^{\\infty} x[m] h[n - m]\n",
    "$$\n",
    "\n",
    "### Visual Interpretation\n",
    "\n",
    "- **Graphical Interpretation**: Imagine sliding one signal across another, multiplying overlapping elements and summing the results to construct the new signal.\n",
    "- **Physical Interpretation**: In physical systems, if \\( h(t) \\) represents the response of a system to an instantaneous unit input, then \\( y(t) \\) describes how the system reacts over time to the input signal \\( x(t) \\).\n",
    "\n",
    "### Importance in Engineering\n",
    "\n",
    "Understanding and implementing convolution is critical in fields such as electrical engineering, computer science, and physics. It aids in designing and analyzing systems that include filters, audio processors, or any system where signals interact dynamically.\n",
    "\n",
    "## Next Steps\n",
    "\n",
    "In the next step, we will manually compute the convolution of two discrete signals to see how the theoretical concepts apply in practice.\n"
   ]
  },
  {
   "cell_type": "code",
   "execution_count": 1,
   "id": "121c2a71",
   "metadata": {},
   "outputs": [],
   "source": [
    "import numpy as np\n",
    "import timeit"
   ]
  },
  {
   "cell_type": "code",
   "execution_count": 10,
   "id": "89b68767",
   "metadata": {},
   "outputs": [],
   "source": [
    "# Step 1: Function to manually calculate convolution\n",
    "def manual_convolution(signal1, signal2):\n",
    "    # Ensure the first signal is the longer one\n",
    "    if len(signal1) < len(signal2):\n",
    "        signal1, signal2 = signal2, signal1\n",
    "    # Pad signal1 with zeros on both sides\n",
    "    pad_signal1 = np.pad(signal1, (len(signal2)-1, len(signal2)-1),\n",
    "                         mode='constant', constant_values=(0, 0))\n",
    "    result = []\n",
    "    # Perform the convolution\n",
    "    for i in range(len(signal2) + len(signal1) - 1):\n",
    "        result.append(np.dot(pad_signal1[i:i+len(signal2)], signal2[::-1]))\n",
    "    return np.array(result)\n",
    "\n"
   ]
  },
  {
   "cell_type": "code",
   "execution_count": 11,
   "id": "ceb5924d",
   "metadata": {},
   "outputs": [],
   "source": [
    "signal1 = np.array([1, 2, 3])\n",
    "signal2 = np.array([0, 1, 0.5])\n",
    "\n",
    "# Step 2: Calculate convolution using NumPy\n",
    "\n",
    "start_time_np = timeit.default_timer()\n",
    "conv_np = np.convolve(signal1, signal2)\n",
    "time_np = timeit.default_timer() - start_time_np\n",
    "\n",
    "# Step 3: Calculate convolution using Our function (above)\n",
    "start_time_manual = timeit.default_timer()\n",
    "conv_manual = manual_convolution(signal1, signal2)\n",
    "time_manual = timeit.default_timer() - start_time_manual"
   ]
  },
  {
   "cell_type": "code",
   "execution_count": 13,
   "id": "f16cc795",
   "metadata": {},
   "outputs": [
    {
     "name": "stdout",
     "output_type": "stream",
     "text": [
      "Manual Convolution: [0.  1.  2.5 4.  1.5] (Time: 0.00556 seconds)\n",
      "NumPy Convolution: [0.  1.  2.5 4.  1.5] (Time: 0.00013 seconds)\n",
      "Manual/Numpy Time Ratio: 41.42730\n"
     ]
    }
   ],
   "source": [
    "# Print results and compare speeds\n",
    "print(f\"Manual Convolution: {conv_manual} (Time: {time_manual:.5f} seconds)\")\n",
    "print(f\"NumPy Convolution: {conv_np} (Time: {time_np:.5f} seconds)\")\n",
    "print(f\"Manual/Numpy Time Ratio: {time_manual/time_np:.5f}\")"
   ]
  },
  {
   "cell_type": "code",
   "execution_count": 14,
   "id": "4851b7eb",
   "metadata": {},
   "outputs": [],
   "source": [
    "# How np.pad works:\n",
    "arr = np.array([1, 2, 3, 4, 5])\n",
    "padded_arr = np.pad(arr, 2)"
   ]
  },
  {
   "cell_type": "code",
   "execution_count": 15,
   "id": "2ec7b2a4",
   "metadata": {},
   "outputs": [
    {
     "name": "stdout",
     "output_type": "stream",
     "text": [
      "[0 0 1 2 3 4 5 0 0]\n"
     ]
    }
   ],
   "source": [
    "print(padded_arr)"
   ]
  },
  {
   "cell_type": "code",
   "execution_count": null,
   "id": "7dfb81f2",
   "metadata": {},
   "outputs": [],
   "source": []
  }
 ],
 "metadata": {
  "kernelspec": {
   "display_name": "Python 3 (ipykernel)",
   "language": "python",
   "name": "python3"
  },
  "language_info": {
   "codemirror_mode": {
    "name": "ipython",
    "version": 3
   },
   "file_extension": ".py",
   "mimetype": "text/x-python",
   "name": "python",
   "nbconvert_exporter": "python",
   "pygments_lexer": "ipython3",
   "version": "3.10.8"
  }
 },
 "nbformat": 4,
 "nbformat_minor": 5
}
