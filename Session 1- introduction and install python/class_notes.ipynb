{
 "cells": [
  {
   "cell_type": "markdown",
   "id": "039da6cf-a3f8-4bec-aece-0ca279c39b3e",
   "metadata": {},
   "source": [
    "# Numbers and more in Python!\n",
    "\n",
    "In this lecture, we will learn about numbers in Python and how to use them.\n",
    "\n",
    "We'll learn about the following topics:\n",
    "\n",
    "    1.) Types of Numbers in Python\n",
    "    2.) Basic Arithmetic\n",
    "    3.) Differences between classic division and floor division\n",
    "    4.) Object Assignment in Python"
   ]
  },
  {
   "cell_type": "code",
   "execution_count": 1,
   "id": "3de3f34a-8205-42f6-8470-a0a2f816ca92",
   "metadata": {},
   "outputs": [
    {
     "data": {
      "text/plain": [
       "11"
      ]
     },
     "execution_count": 1,
     "metadata": {},
     "output_type": "execute_result"
    }
   ],
   "source": [
    "3 + 8"
   ]
  },
  {
   "cell_type": "code",
   "execution_count": 2,
   "id": "de752336-5578-4963-a192-b7d8578e99d9",
   "metadata": {},
   "outputs": [
    {
     "data": {
      "text/plain": [
       "-1"
      ]
     },
     "execution_count": 2,
     "metadata": {},
     "output_type": "execute_result"
    }
   ],
   "source": [
    "4 - 5"
   ]
  },
  {
   "cell_type": "code",
   "execution_count": 3,
   "id": "db79da91-4f96-4639-8154-d124fe8f0fc5",
   "metadata": {},
   "outputs": [
    {
     "data": {
      "text/plain": [
       "21"
      ]
     },
     "execution_count": 3,
     "metadata": {},
     "output_type": "execute_result"
    }
   ],
   "source": [
    "3 * 7"
   ]
  },
  {
   "cell_type": "code",
   "execution_count": 4,
   "id": "8e86df98-2b5e-400d-990a-ea9333bd13f4",
   "metadata": {},
   "outputs": [
    {
     "data": {
      "text/plain": [
       "21"
      ]
     },
     "execution_count": 4,
     "metadata": {},
     "output_type": "execute_result"
    }
   ],
   "source": [
    "3 * 7"
   ]
  },
  {
   "cell_type": "code",
   "execution_count": 5,
   "id": "1ba331d0-c167-41ff-a13c-e098dc5ea2c5",
   "metadata": {},
   "outputs": [
    {
     "data": {
      "text/plain": [
       "2.4"
      ]
     },
     "execution_count": 5,
     "metadata": {},
     "output_type": "execute_result"
    }
   ],
   "source": [
    "12 / 5"
   ]
  },
  {
   "cell_type": "code",
   "execution_count": 6,
   "id": "da4f5c03-bc62-4ace-9002-8eae6a401074",
   "metadata": {},
   "outputs": [
    {
     "data": {
      "text/plain": [
       "4"
      ]
     },
     "execution_count": 6,
     "metadata": {},
     "output_type": "execute_result"
    }
   ],
   "source": [
    "14 // 3"
   ]
  },
  {
   "cell_type": "code",
   "execution_count": 7,
   "id": "29a44038-52e8-40cd-86be-66707c2b2496",
   "metadata": {},
   "outputs": [
    {
     "data": {
      "text/plain": [
       "2"
      ]
     },
     "execution_count": 7,
     "metadata": {},
     "output_type": "execute_result"
    }
   ],
   "source": [
    "14 % 3"
   ]
  },
  {
   "cell_type": "code",
   "execution_count": 8,
   "id": "97511d53-bfc9-4c63-b88d-7141fcb92c63",
   "metadata": {},
   "outputs": [
    {
     "data": {
      "text/plain": [
       "64"
      ]
     },
     "execution_count": 8,
     "metadata": {},
     "output_type": "execute_result"
    }
   ],
   "source": [
    "4 ** 3"
   ]
  },
  {
   "cell_type": "code",
   "execution_count": 9,
   "id": "8efa4ebb-0e61-4aeb-bc30-0d10b86437f5",
   "metadata": {},
   "outputs": [
    {
     "data": {
      "text/plain": [
       "29"
      ]
     },
     "execution_count": 9,
     "metadata": {},
     "output_type": "execute_result"
    }
   ],
   "source": [
    "2 + 10 * 3 -3"
   ]
  },
  {
   "cell_type": "code",
   "execution_count": 10,
   "id": "caabedd8-8850-41d9-8358-65c5d47e4e29",
   "metadata": {},
   "outputs": [],
   "source": [
    "# this is a tag useful comment\n",
    "x = 2\n",
    "\n"
   ]
  },
  {
   "cell_type": "code",
   "execution_count": 11,
   "id": "8c67106e-57c4-4c9d-8d40-c0505185ed0a",
   "metadata": {},
   "outputs": [
    {
     "data": {
      "text/plain": [
       "int"
      ]
     },
     "execution_count": 11,
     "metadata": {},
     "output_type": "execute_result"
    }
   ],
   "source": [
    "type(x)"
   ]
  },
  {
   "cell_type": "code",
   "execution_count": 12,
   "id": "37ec02f0-270c-4adc-b8dc-7a291f398392",
   "metadata": {},
   "outputs": [
    {
     "data": {
      "text/plain": [
       "2"
      ]
     },
     "execution_count": 12,
     "metadata": {},
     "output_type": "execute_result"
    }
   ],
   "source": [
    "x"
   ]
  },
  {
   "cell_type": "code",
   "execution_count": 13,
   "id": "f50fbeb9-970a-4c39-8457-fb00543b5c61",
   "metadata": {},
   "outputs": [],
   "source": [
    "y = 3"
   ]
  },
  {
   "cell_type": "code",
   "execution_count": 14,
   "id": "26714dbc-4c7c-46b6-a260-566f98d6a552",
   "metadata": {},
   "outputs": [],
   "source": [
    "z = x ** 2 + y ** 2"
   ]
  },
  {
   "cell_type": "code",
   "execution_count": 15,
   "id": "2c97c29c-f8b9-4ad4-b1a0-2f2b4d485caa",
   "metadata": {},
   "outputs": [],
   "source": [
    "x = 10"
   ]
  },
  {
   "cell_type": "code",
   "execution_count": 16,
   "id": "fc87b1a9-48ea-4283-b4cc-6810435d9f99",
   "metadata": {},
   "outputs": [
    {
     "data": {
      "text/plain": [
       "13"
      ]
     },
     "execution_count": 16,
     "metadata": {},
     "output_type": "execute_result"
    }
   ],
   "source": [
    "z"
   ]
  },
  {
   "cell_type": "code",
   "execution_count": 17,
   "id": "c8cfb372-0d7f-4ccd-a915-42b938f7ba67",
   "metadata": {},
   "outputs": [],
   "source": [
    "# string \n",
    "\n",
    "a = 'hello my name is Amir!'"
   ]
  },
  {
   "cell_type": "code",
   "execution_count": 18,
   "id": "564380e5-54c4-42d1-8916-5273f56b5a12",
   "metadata": {},
   "outputs": [
    {
     "data": {
      "text/plain": [
       "str"
      ]
     },
     "execution_count": 18,
     "metadata": {},
     "output_type": "execute_result"
    }
   ],
   "source": [
    "type(a)"
   ]
  },
  {
   "cell_type": "code",
   "execution_count": 19,
   "id": "602f8c32-40ae-4fa7-a611-4fb5e1416503",
   "metadata": {
    "scrolled": true
   },
   "outputs": [
    {
     "ename": "SyntaxError",
     "evalue": "invalid syntax (1161017461.py, line 1)",
     "output_type": "error",
     "traceback": [
      "\u001b[1;36m  Cell \u001b[1;32mIn[19], line 1\u001b[1;36m\u001b[0m\n\u001b[1;33m    b = this python course'\u001b[0m\n\u001b[1;37m             ^\u001b[0m\n\u001b[1;31mSyntaxError\u001b[0m\u001b[1;31m:\u001b[0m invalid syntax\n"
     ]
    }
   ],
   "source": [
    "b = this python course'"
   ]
  },
  {
   "cell_type": "code",
   "execution_count": 20,
   "id": "948bae0d-69cb-4f94-bb19-80012bf05c28",
   "metadata": {},
   "outputs": [
    {
     "name": "stdout",
     "output_type": "stream",
     "text": [
      "13\n"
     ]
    }
   ],
   "source": [
    "print(z)"
   ]
  },
  {
   "cell_type": "code",
   "execution_count": 21,
   "id": "48a0b15d-ed84-4862-a75e-183f2f54b0b6",
   "metadata": {},
   "outputs": [
    {
     "name": "stdout",
     "output_type": "stream",
     "text": [
      "Z value is z\n"
     ]
    }
   ],
   "source": [
    "print(\"Z value is z\")"
   ]
  },
  {
   "cell_type": "code",
   "execution_count": 22,
   "id": "ae13cde9-6f34-42c1-93e1-55fffbf363fb",
   "metadata": {},
   "outputs": [
    {
     "name": "stdout",
     "output_type": "stream",
     "text": [
      "Z value is 13\n"
     ]
    }
   ],
   "source": [
    "print(f\"Z value is {z}\")"
   ]
  },
  {
   "cell_type": "code",
   "execution_count": 23,
   "id": "2f078197-d2b3-4e9e-b7e6-4bdabcd750ea",
   "metadata": {},
   "outputs": [],
   "source": [
    "a = 'e'\n",
    "v = 'i '"
   ]
  },
  {
   "cell_type": "code",
   "execution_count": 24,
   "id": "c65660b6-a9cf-4a85-81f5-13e71470acef",
   "metadata": {},
   "outputs": [
    {
     "data": {
      "text/plain": [
       "'eeeeeeeeeeeeeeeeeeeeeeeeeeeee'"
      ]
     },
     "execution_count": 24,
     "metadata": {},
     "output_type": "execute_result"
    }
   ],
   "source": [
    "29 * a"
   ]
  },
  {
   "cell_type": "code",
   "execution_count": 25,
   "id": "e9a9ecc6-28ea-4eaf-ad3b-82159e7c2c28",
   "metadata": {},
   "outputs": [
    {
     "data": {
      "text/plain": [
       "'i e'"
      ]
     },
     "execution_count": 25,
     "metadata": {},
     "output_type": "execute_result"
    }
   ],
   "source": [
    "v + a"
   ]
  },
  {
   "cell_type": "code",
   "execution_count": 26,
   "id": "34db83fb-a9a4-4092-b2e9-6bda873250fa",
   "metadata": {},
   "outputs": [
    {
     "ename": "TypeError",
     "evalue": "unsupported operand type(s) for ** or pow(): 'int' and 'str'",
     "output_type": "error",
     "traceback": [
      "\u001b[1;31m---------------------------------------------------------------------------\u001b[0m",
      "\u001b[1;31mTypeError\u001b[0m                                 Traceback (most recent call last)",
      "Cell \u001b[1;32mIn[26], line 1\u001b[0m\n\u001b[1;32m----> 1\u001b[0m \u001b[38;5;241;43m29\u001b[39;49m\u001b[43m \u001b[49m\u001b[38;5;241;43m*\u001b[39;49m\u001b[38;5;241;43m*\u001b[39;49m\u001b[43m \u001b[49m\u001b[43ma\u001b[49m\n",
      "\u001b[1;31mTypeError\u001b[0m: unsupported operand type(s) for ** or pow(): 'int' and 'str'"
     ]
    }
   ],
   "source": [
    "29 ** a"
   ]
  },
  {
   "cell_type": "code",
   "execution_count": 27,
   "id": "dec1e7b3-05e6-40d2-a87b-4df0c772eb6e",
   "metadata": {},
   "outputs": [],
   "source": [
    "# list\n",
    "list_1 = [1, 3, 5,]"
   ]
  },
  {
   "cell_type": "code",
   "execution_count": 28,
   "id": "e2b8ae39-c18f-4d8f-bcd4-c75988ddb83d",
   "metadata": {},
   "outputs": [
    {
     "data": {
      "text/plain": [
       "list"
      ]
     },
     "execution_count": 28,
     "metadata": {},
     "output_type": "execute_result"
    }
   ],
   "source": [
    "type(list_1)"
   ]
  },
  {
   "cell_type": "code",
   "execution_count": 29,
   "id": "dc7bf9a4-2d13-41cd-a606-9d45762d8eb9",
   "metadata": {},
   "outputs": [],
   "source": [
    "t = [1, 'amir', z]"
   ]
  },
  {
   "cell_type": "code",
   "execution_count": 30,
   "id": "35a5bda6-9d16-4f86-856f-6c015c181d3f",
   "metadata": {},
   "outputs": [],
   "source": [
    "q = [1, 'a', -1, [2, 4, 'aaa']]"
   ]
  },
  {
   "cell_type": "code",
   "execution_count": 31,
   "id": "7a5c3558-793e-4155-aad2-e01d6edb3f34",
   "metadata": {},
   "outputs": [
    {
     "data": {
      "text/plain": [
       "3"
      ]
     },
     "execution_count": 31,
     "metadata": {},
     "output_type": "execute_result"
    }
   ],
   "source": [
    "len(t)"
   ]
  },
  {
   "cell_type": "code",
   "execution_count": 32,
   "id": "b074de46-1077-4306-9543-95e340dd3554",
   "metadata": {},
   "outputs": [
    {
     "data": {
      "text/plain": [
       "4"
      ]
     },
     "execution_count": 32,
     "metadata": {},
     "output_type": "execute_result"
    }
   ],
   "source": [
    "len(q)"
   ]
  },
  {
   "cell_type": "code",
   "execution_count": 33,
   "id": "530edc9a-d5e7-46a8-b4c5-3f07429aca49",
   "metadata": {},
   "outputs": [],
   "source": [
    "tt = 23"
   ]
  },
  {
   "cell_type": "code",
   "execution_count": 34,
   "id": "3bd2bd15-0ccb-44cf-86d8-a29d38dde6f1",
   "metadata": {},
   "outputs": [
    {
     "ename": "TypeError",
     "evalue": "object of type 'int' has no len()",
     "output_type": "error",
     "traceback": [
      "\u001b[1;31m---------------------------------------------------------------------------\u001b[0m",
      "\u001b[1;31mTypeError\u001b[0m                                 Traceback (most recent call last)",
      "Cell \u001b[1;32mIn[34], line 1\u001b[0m\n\u001b[1;32m----> 1\u001b[0m \u001b[38;5;28;43mlen\u001b[39;49m\u001b[43m(\u001b[49m\u001b[43mtt\u001b[49m\u001b[43m)\u001b[49m\n",
      "\u001b[1;31mTypeError\u001b[0m: object of type 'int' has no len()"
     ]
    }
   ],
   "source": [
    "len(tt)"
   ]
  },
  {
   "cell_type": "code",
   "execution_count": 35,
   "id": "110edaa3-5e97-4ec7-961e-f903c268ba38",
   "metadata": {},
   "outputs": [],
   "source": [
    "# indexing \n",
    "\n",
    "str_1 = 'this is firt string no.1'"
   ]
  },
  {
   "cell_type": "code",
   "execution_count": 36,
   "id": "492c5fb9-30b9-4eb4-a862-2b732201fdec",
   "metadata": {},
   "outputs": [
    {
     "data": {
      "text/plain": [
       "'t'"
      ]
     },
     "execution_count": 36,
     "metadata": {},
     "output_type": "execute_result"
    }
   ],
   "source": [
    "str_1[0]"
   ]
  },
  {
   "cell_type": "code",
   "execution_count": 37,
   "id": "d852abb9-f6b0-4e3d-83e3-49c136ff5ff0",
   "metadata": {},
   "outputs": [
    {
     "data": {
      "text/plain": [
       "'h'"
      ]
     },
     "execution_count": 37,
     "metadata": {},
     "output_type": "execute_result"
    }
   ],
   "source": [
    "str_1[1]"
   ]
  },
  {
   "cell_type": "code",
   "execution_count": 38,
   "id": "eefc3985-f48f-4cee-9b5a-a96cef24dc9f",
   "metadata": {},
   "outputs": [],
   "source": [
    "my_var = [1, 3, 'python']"
   ]
  },
  {
   "cell_type": "code",
   "execution_count": 39,
   "id": "83170730-5778-447a-b2ef-d45f263e36b0",
   "metadata": {},
   "outputs": [
    {
     "ename": "IndexError",
     "evalue": "list index out of range",
     "output_type": "error",
     "traceback": [
      "\u001b[1;31m---------------------------------------------------------------------------\u001b[0m",
      "\u001b[1;31mIndexError\u001b[0m                                Traceback (most recent call last)",
      "Cell \u001b[1;32mIn[39], line 1\u001b[0m\n\u001b[1;32m----> 1\u001b[0m \u001b[43mmy_var\u001b[49m\u001b[43m[\u001b[49m\u001b[38;5;241;43m3\u001b[39;49m\u001b[43m]\u001b[49m\n",
      "\u001b[1;31mIndexError\u001b[0m: list index out of range"
     ]
    }
   ],
   "source": [
    "my_var[3]"
   ]
  },
  {
   "cell_type": "code",
   "execution_count": 40,
   "id": "e1e586a2-c815-4323-b121-e859f05fe2dc",
   "metadata": {},
   "outputs": [
    {
     "data": {
      "text/plain": [
       "'python'"
      ]
     },
     "execution_count": 40,
     "metadata": {},
     "output_type": "execute_result"
    }
   ],
   "source": [
    "my_var[2]"
   ]
  },
  {
   "cell_type": "code",
   "execution_count": 41,
   "id": "48144af4-9a9c-41ce-ad42-fb46ad1d6e6d",
   "metadata": {},
   "outputs": [],
   "source": [
    "a1 = 'i love python'"
   ]
  },
  {
   "cell_type": "code",
   "execution_count": 42,
   "id": "cd332237-a6ec-4abe-a99d-032be698fe19",
   "metadata": {},
   "outputs": [
    {
     "data": {
      "text/plain": [
       "'i love'"
      ]
     },
     "execution_count": 42,
     "metadata": {},
     "output_type": "execute_result"
    }
   ],
   "source": [
    "a1[:6]"
   ]
  },
  {
   "cell_type": "code",
   "execution_count": 43,
   "id": "d721ad4c-4b37-44ec-b2b7-56e2456c03de",
   "metadata": {},
   "outputs": [
    {
     "data": {
      "text/plain": [
       "'n'"
      ]
     },
     "execution_count": 43,
     "metadata": {},
     "output_type": "execute_result"
    }
   ],
   "source": [
    "a1[-1]"
   ]
  },
  {
   "cell_type": "code",
   "execution_count": 44,
   "id": "8f0c8b52-a894-44d2-9f06-96de89af8a95",
   "metadata": {},
   "outputs": [
    {
     "data": {
      "text/plain": [
       "'love '"
      ]
     },
     "execution_count": 44,
     "metadata": {},
     "output_type": "execute_result"
    }
   ],
   "source": [
    "a1[2:7]"
   ]
  },
  {
   "cell_type": "code",
   "execution_count": 45,
   "id": "62b6c9fe-662f-4bd6-99d9-d53c6022b514",
   "metadata": {},
   "outputs": [],
   "source": [
    "#nesting\n",
    "my_var1 = [1, 3, 'python', [2, 4, 'water']]"
   ]
  },
  {
   "cell_type": "code",
   "execution_count": 46,
   "id": "c98b4206-0742-4db8-83dc-e7212eab0532",
   "metadata": {},
   "outputs": [
    {
     "data": {
      "text/plain": [
       "'water'"
      ]
     },
     "execution_count": 46,
     "metadata": {},
     "output_type": "execute_result"
    }
   ],
   "source": [
    "'water'"
   ]
  },
  {
   "cell_type": "code",
   "execution_count": 47,
   "id": "23c11f12-71c2-418e-832e-b1b48e24476a",
   "metadata": {},
   "outputs": [
    {
     "data": {
      "text/plain": [
       "'water'"
      ]
     },
     "execution_count": 47,
     "metadata": {},
     "output_type": "execute_result"
    }
   ],
   "source": [
    "my_var1[3][2]"
   ]
  },
  {
   "cell_type": "code",
   "execution_count": 48,
   "id": "ac56ca67-2af5-42fb-a07a-a5cea426a655",
   "metadata": {},
   "outputs": [],
   "source": [
    "# Dictionaries\n",
    "d = {'color':'red',\n",
    "    'age':  38,\n",
    "    'my list': [11, 23, 'jupyter']}"
   ]
  },
  {
   "cell_type": "code",
   "execution_count": 49,
   "id": "603c5df9-6751-480c-be7b-b4055e03f7f5",
   "metadata": {},
   "outputs": [],
   "source": [
    "d1 = {'key':'value'}"
   ]
  },
  {
   "cell_type": "code",
   "execution_count": 50,
   "id": "29df72f9-256d-432f-bdf6-13c247030daf",
   "metadata": {},
   "outputs": [
    {
     "ename": "KeyError",
     "evalue": "3",
     "output_type": "error",
     "traceback": [
      "\u001b[1;31m---------------------------------------------------------------------------\u001b[0m",
      "\u001b[1;31mKeyError\u001b[0m                                  Traceback (most recent call last)",
      "Cell \u001b[1;32mIn[50], line 1\u001b[0m\n\u001b[1;32m----> 1\u001b[0m \u001b[43md\u001b[49m\u001b[43m[\u001b[49m\u001b[38;5;241;43m3\u001b[39;49m\u001b[43m]\u001b[49m\n",
      "\u001b[1;31mKeyError\u001b[0m: 3"
     ]
    }
   ],
   "source": [
    "d[3]"
   ]
  },
  {
   "cell_type": "code",
   "execution_count": 51,
   "id": "893f3ec1-6d4f-4c5f-b60f-f1b0a4e9b5d0",
   "metadata": {},
   "outputs": [
    {
     "data": {
      "text/plain": [
       "'red'"
      ]
     },
     "execution_count": 51,
     "metadata": {},
     "output_type": "execute_result"
    }
   ],
   "source": [
    "d['color']"
   ]
  },
  {
   "cell_type": "code",
   "execution_count": 52,
   "id": "e2770034-24ad-4d22-8fab-f50204715927",
   "metadata": {},
   "outputs": [
    {
     "data": {
      "text/plain": [
       "'jupyter'"
      ]
     },
     "execution_count": 52,
     "metadata": {},
     "output_type": "execute_result"
    }
   ],
   "source": [
    "d['my list'][2]"
   ]
  },
  {
   "cell_type": "code",
   "execution_count": 53,
   "id": "23312ee0-401d-47d5-a747-b252d6f00eb0",
   "metadata": {},
   "outputs": [
    {
     "data": {
      "text/plain": [
       "False"
      ]
     },
     "execution_count": 53,
     "metadata": {},
     "output_type": "execute_result"
    }
   ],
   "source": [
    "#Booleans\n",
    "\n",
    "False"
   ]
  },
  {
   "cell_type": "code",
   "execution_count": 54,
   "id": "9ce69798-76a3-4337-967a-b4dde927d96d",
   "metadata": {},
   "outputs": [
    {
     "data": {
      "text/plain": [
       "True"
      ]
     },
     "execution_count": 54,
     "metadata": {},
     "output_type": "execute_result"
    }
   ],
   "source": [
    "True"
   ]
  },
  {
   "cell_type": "code",
   "execution_count": 55,
   "id": "9efcccc5-14fe-44fe-9acc-ba159c65c323",
   "metadata": {},
   "outputs": [
    {
     "data": {
      "text/plain": [
       "True"
      ]
     },
     "execution_count": 55,
     "metadata": {},
     "output_type": "execute_result"
    }
   ],
   "source": [
    "2 < 19"
   ]
  },
  {
   "cell_type": "code",
   "execution_count": 56,
   "id": "762c9753-cf6a-40f2-83d5-a990ad63bbe2",
   "metadata": {},
   "outputs": [
    {
     "data": {
      "text/plain": [
       "False"
      ]
     },
     "execution_count": 56,
     "metadata": {},
     "output_type": "execute_result"
    }
   ],
   "source": [
    "12 > 51"
   ]
  },
  {
   "cell_type": "code",
   "execution_count": 57,
   "id": "97550878-a7c3-4040-8276-51199bd9f936",
   "metadata": {},
   "outputs": [
    {
     "ename": "SyntaxError",
     "evalue": "cannot assign to literal (3802935557.py, line 1)",
     "output_type": "error",
     "traceback": [
      "\u001b[1;36m  Cell \u001b[1;32mIn[57], line 1\u001b[1;36m\u001b[0m\n\u001b[1;33m    3 = 3\u001b[0m\n\u001b[1;37m    ^\u001b[0m\n\u001b[1;31mSyntaxError\u001b[0m\u001b[1;31m:\u001b[0m cannot assign to literal\n"
     ]
    }
   ],
   "source": [
    "3 = 3"
   ]
  },
  {
   "cell_type": "code",
   "execution_count": 58,
   "id": "8f45d85d-d8a7-42c0-a0c7-a6d4abf59547",
   "metadata": {},
   "outputs": [
    {
     "data": {
      "text/plain": [
       "True"
      ]
     },
     "execution_count": 58,
     "metadata": {},
     "output_type": "execute_result"
    }
   ],
   "source": [
    "3 == 3"
   ]
  },
  {
   "cell_type": "code",
   "execution_count": 59,
   "id": "b1b0814f-aa7a-42dd-893c-ccbe503cceea",
   "metadata": {},
   "outputs": [
    {
     "data": {
      "text/plain": [
       "False"
      ]
     },
     "execution_count": 59,
     "metadata": {},
     "output_type": "execute_result"
    }
   ],
   "source": [
    "4 == 6"
   ]
  },
  {
   "cell_type": "code",
   "execution_count": 60,
   "id": "06992741-ef3f-4bc8-96ed-46d0120da005",
   "metadata": {},
   "outputs": [
    {
     "data": {
      "text/plain": [
       "True"
      ]
     },
     "execution_count": 60,
     "metadata": {},
     "output_type": "execute_result"
    }
   ],
   "source": [
    "2 != 3"
   ]
  },
  {
   "cell_type": "code",
   "execution_count": 61,
   "id": "498c80fd-660e-4aad-92ce-2761919bd3d0",
   "metadata": {},
   "outputs": [],
   "source": [
    "# tuple\n",
    "\n",
    "t = (2, 3, 5, 'a')"
   ]
  },
  {
   "cell_type": "code",
   "execution_count": 62,
   "id": "f9d82d9f-c941-4883-a360-8f32405b0545",
   "metadata": {},
   "outputs": [],
   "source": [
    "p1 = [2, 3, 5]"
   ]
  },
  {
   "cell_type": "code",
   "execution_count": 63,
   "id": "e4ae1ff0-6d06-4dd5-b4e9-13f53054ca3a",
   "metadata": {},
   "outputs": [
    {
     "data": {
      "text/plain": [
       "[2, 3, 5]"
      ]
     },
     "execution_count": 63,
     "metadata": {},
     "output_type": "execute_result"
    }
   ],
   "source": [
    "p1"
   ]
  },
  {
   "cell_type": "code",
   "execution_count": 64,
   "id": "584bf47e-99d5-43dc-b505-bf7cdbbb73c2",
   "metadata": {},
   "outputs": [],
   "source": [
    "p1[0] = 'jupyter'"
   ]
  },
  {
   "cell_type": "code",
   "execution_count": 65,
   "id": "0d85eabd-1838-408a-8d94-b6a2b580a799",
   "metadata": {},
   "outputs": [
    {
     "data": {
      "text/plain": [
       "['jupyter', 3, 5]"
      ]
     },
     "execution_count": 65,
     "metadata": {},
     "output_type": "execute_result"
    }
   ],
   "source": [
    "p1"
   ]
  },
  {
   "cell_type": "code",
   "execution_count": 66,
   "id": "2b3e63ce-4a39-4773-8588-006c5e86452b",
   "metadata": {},
   "outputs": [],
   "source": [
    "t = (2, 3, 5, 'a')"
   ]
  },
  {
   "cell_type": "code",
   "execution_count": 67,
   "id": "068d2780-3310-422c-af7b-f5df7413dc9a",
   "metadata": {},
   "outputs": [
    {
     "data": {
      "text/plain": [
       "'a'"
      ]
     },
     "execution_count": 67,
     "metadata": {},
     "output_type": "execute_result"
    }
   ],
   "source": [
    "t[3]"
   ]
  },
  {
   "cell_type": "code",
   "execution_count": 68,
   "id": "d4b2b114-4cfe-4955-a73d-935517645cb1",
   "metadata": {},
   "outputs": [
    {
     "ename": "TypeError",
     "evalue": "'tuple' object does not support item assignment",
     "output_type": "error",
     "traceback": [
      "\u001b[1;31m---------------------------------------------------------------------------\u001b[0m",
      "\u001b[1;31mTypeError\u001b[0m                                 Traceback (most recent call last)",
      "Cell \u001b[1;32mIn[68], line 1\u001b[0m\n\u001b[1;32m----> 1\u001b[0m \u001b[43mt\u001b[49m\u001b[43m[\u001b[49m\u001b[38;5;241;43m3\u001b[39;49m\u001b[43m]\u001b[49m \u001b[38;5;241m=\u001b[39m \u001b[38;5;241m1300\u001b[39m\n",
      "\u001b[1;31mTypeError\u001b[0m: 'tuple' object does not support item assignment"
     ]
    }
   ],
   "source": [
    "t[3] = 1300"
   ]
  },
  {
   "cell_type": "code",
   "execution_count": 69,
   "id": "c2f0cbb4-91ef-47bd-880b-b7fe47951e47",
   "metadata": {},
   "outputs": [],
   "source": [
    "#Logic Operators\n",
    "\n",
    "if 3 < 2:\n",
    "    print('correct!')\n"
   ]
  },
  {
   "cell_type": "code",
   "execution_count": 70,
   "id": "ec184af5-d7e2-4998-acb8-67d7ec5ccfcb",
   "metadata": {},
   "outputs": [
    {
     "name": "stdout",
     "output_type": "stream",
     "text": [
      "correct!\n"
     ]
    }
   ],
   "source": [
    "if 1 < 2:\n",
    "    print('correct!')\n"
   ]
  },
  {
   "cell_type": "code",
   "execution_count": 71,
   "id": "15987bb4-0d61-487f-b3bf-70c7648eddcc",
   "metadata": {},
   "outputs": [
    {
     "name": "stdout",
     "output_type": "stream",
     "text": [
      "wrong!\n"
     ]
    }
   ],
   "source": [
    "if 3 < 2:\n",
    "    print('correct!')\n",
    "else:\n",
    "    print('wrong!')\n"
   ]
  },
  {
   "cell_type": "code",
   "execution_count": 72,
   "id": "313131bd-af2e-4f44-bdb2-6a6e1b3da700",
   "metadata": {},
   "outputs": [
    {
     "name": "stdout",
     "output_type": "stream",
     "text": [
      "last\n"
     ]
    }
   ],
   "source": [
    "if 1 == 2 - 18:\n",
    "    print('first')\n",
    "elif 3 == 83:\n",
    "    print('second')\n",
    "else:\n",
    "    print('last')"
   ]
  },
  {
   "cell_type": "code",
   "execution_count": 73,
   "id": "21e8d866-c575-48a2-b5d2-61d7c1d8c9e1",
   "metadata": {},
   "outputs": [
    {
     "name": "stdout",
     "output_type": "stream",
     "text": [
      "1\n",
      "4\n",
      "9\n",
      "16\n",
      "25\n"
     ]
    }
   ],
   "source": [
    "temparatures = [1, 2, 3, 4, 5]\n",
    "for temp in temparatures:\n",
    "    print(temp ** 2)\n"
   ]
  },
  {
   "cell_type": "code",
   "execution_count": 77,
   "id": "ea789325-c0bf-45cc-bdfc-60309a332529",
   "metadata": {},
   "outputs": [
    {
     "name": "stdout",
     "output_type": "stream",
     "text": [
      "yes friend\n",
      "yes friend\n",
      "yes friend\n",
      "yes friend\n",
      "yes friend\n"
     ]
    }
   ],
   "source": [
    "seq = ['a', 2, 3, 4, 5]\n",
    "\n",
    "for item in seq:\n",
    "    print('yes' + ' friend')"
   ]
  },
  {
   "cell_type": "code",
   "execution_count": null,
   "id": "6787a2a2-fcf8-4470-b6f3-152dde0a1de6",
   "metadata": {},
   "outputs": [],
   "source": []
  }
 ],
 "metadata": {
  "kernelspec": {
   "display_name": "Python 3 (ipykernel)",
   "language": "python",
   "name": "python3"
  },
  "language_info": {
   "codemirror_mode": {
    "name": "ipython",
    "version": 3
   },
   "file_extension": ".py",
   "mimetype": "text/x-python",
   "name": "python",
   "nbconvert_exporter": "python",
   "pygments_lexer": "ipython3",
   "version": "3.9.19"
  }
 },
 "nbformat": 4,
 "nbformat_minor": 5
}
