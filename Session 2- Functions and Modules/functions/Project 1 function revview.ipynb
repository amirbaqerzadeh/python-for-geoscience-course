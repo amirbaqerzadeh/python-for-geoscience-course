{
 "cells": [
  {
   "cell_type": "markdown",
   "id": "79a8c5c3",
   "metadata": {},
   "source": [
    "## Write a rolling dice"
   ]
  },
  {
   "cell_type": "code",
   "execution_count": null,
   "id": "39c9c5b5",
   "metadata": {},
   "outputs": [],
   "source": [
    "#Step 1: import necessary library (numpy):\n"
   ]
  },
  {
   "cell_type": "code",
   "execution_count": null,
   "id": "1f90d0df",
   "metadata": {},
   "outputs": [],
   "source": [
    "#Step 2: Write a function to generate a number between 1 and 6:\n",
    "# hint: use np.random.randint\n",
    "def roll_dice():\n",
    "    \"\"\"Simulate rolling a dice by returning a random number between 1 and 6.\"\"\"\n",
    "    #ToDo\n"
   ]
  },
  {
   "cell_type": "code",
   "execution_count": null,
   "id": "5f2e9c08",
   "metadata": {},
   "outputs": [],
   "source": [
    "#Step 3: now write a function to use your dice (step 2)\n",
    "def main():\n",
    "    while True:\n",
    "        # Roll the dice\n",
    "        result = roll_dice()\n",
    "        #ToDo:\n",
    "        print(#Write a sentences here to show the result)\n",
    "        \n",
    "        # Ask the user if they want to roll again\n",
    "        roll_again = input(\"Do you want to roll the dice again? (yes/no): \").strip().lower()\n",
    "        \n",
    "        # Check if the user wants to stop\n",
    "        if roll_again != 'yes':\n",
    "            print(\"Thanks for playing!\")\n",
    "            break\n",
    "\n"
   ]
  },
  {
   "cell_type": "markdown",
   "id": "bc85b073",
   "metadata": {},
   "source": [
    "## Extra Questions:\n",
    "### write a program to roll the dice 100 (or more) times and calculate how manny times each number apears"
   ]
  },
  {
   "cell_type": "code",
   "execution_count": 21,
   "id": "9c0c0f51",
   "metadata": {},
   "outputs": [],
   "source": [
    "# Write your code here\n"
   ]
  },
  {
   "cell_type": "markdown",
   "id": "c38ed6b9",
   "metadata": {},
   "source": [
    "# Greate Job!"
   ]
  }
 ],
 "metadata": {
  "kernelspec": {
   "display_name": "Python 3 (ipykernel)",
   "language": "python",
   "name": "python3"
  },
  "language_info": {
   "codemirror_mode": {
    "name": "ipython",
    "version": 3
   },
   "file_extension": ".py",
   "mimetype": "text/x-python",
   "name": "python",
   "nbconvert_exporter": "python",
   "pygments_lexer": "ipython3",
   "version": "3.10.8"
  }
 },
 "nbformat": 4,
 "nbformat_minor": 5
}
